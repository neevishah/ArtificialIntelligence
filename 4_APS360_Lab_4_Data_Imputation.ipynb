{
  "nbformat": 4,
  "nbformat_minor": 0,
  "metadata": {
    "kernelspec": {
      "name": "python3",
      "display_name": "Python 3"
    },
    "language_info": {
      "codemirror_mode": {
        "name": "ipython",
        "version": 3
      },
      "file_extension": ".py",
      "mimetype": "text/x-python",
      "name": "python",
      "nbconvert_exporter": "python",
      "pygments_lexer": "ipython3",
      "version": "3.6.7"
    },
    "colab": {
      "name": "4. APS360 Lab_4_Data_Imputation.ipynb",
      "provenance": [],
      "collapsed_sections": [],
      "include_colab_link": true
    },
    "accelerator": "GPU"
  },
  "cells": [
    {
      "cell_type": "markdown",
      "metadata": {
        "id": "view-in-github",
        "colab_type": "text"
      },
      "source": [
        "<a href=\"https://colab.research.google.com/github/neevishah/ArtificialIntelligence/blob/master/4_APS360_Lab_4_Data_Imputation.ipynb\" target=\"_parent\"><img src=\"https://colab.research.google.com/assets/colab-badge.svg\" alt=\"Open In Colab\"/></a>"
      ]
    },
    {
      "cell_type": "markdown",
      "metadata": {
        "id": "OhtOdxzd1ppr",
        "colab_type": "text"
      },
      "source": [
        "# Lab 4: Data Imputation using an Autoencoder\n",
        "\n",
        "**Deadline**: Thursday, March 5, 11:59pm\n",
        "\n",
        "**Late Penalty**: There is a penalty-free grace period of one hour past the deadline. Any work that is submitted between 1 hour and 24 hours past the deadline will receive a 20% grade deduction. No other late work is accepted. Quercus submission time will be used, not your local computer time. You can submit your labs as many times as you want before the deadline, so please submit often and early.\n",
        "\n",
        "**TA**: Chris Lucasius\n",
        "\n",
        "In this lab, you will build and train an autoencoder to impute (or \"fill in\") missing data. \n",
        "\n",
        "We will be using the\n",
        "Adult Data Set provided by the UCI Machine Learning Repository [1], available \n",
        "at https://archive.ics.uci.edu/ml/datasets/adult.\n",
        "The data set contains census record files of adults, including their\n",
        "age, martial status, the type of work they do, and other features. \n",
        "\n",
        "Normally, people use this data set to build a supervised classification\n",
        "model to classify whether a person is a high income earner.\n",
        "We will not use the dataset for this original intended purpose.\n",
        "\n",
        "Instead, we will perform the task of imputing (or \"filling in\") missing values in the dataset. For example,\n",
        "we may be missing one person's martial status, and another person's age, and\n",
        "a third person's level of education. Our model will predict the missing features \n",
        "based on the information that we do have about each person.\n",
        "\n",
        "We will use a variation of a denoising autoencoder to solve this data imputation\n",
        "problem. Our autoencoder will be trained using inputs that have one categorical feature artificially\n",
        "removed, and the goal of the autoencoder is to correctly reconstruct all features,\n",
        "including the one removed from the input.\n",
        "\n",
        "In the process, you are expected to learn to:\n",
        "\n",
        "1. Clean and process continuous and categorical data for machine learning.\n",
        "2. Implement an autoencoder that takes continuous and categorical (one-hot) inputs.\n",
        "3. Tune the hyperparameters of an autoencoder.\n",
        "4. Use baseline models to help interpret model performance.\n",
        "\n",
        "[1] Dua, D. and Karra Taniskidou, E. (2017). UCI Machine Learning Repository [http://archive.ics.uci.edu/ml]. Irvine, CA: University of California, School of Information and Computer Science.\n",
        "\n",
        "\n",
        "### What to submit\n",
        "\n",
        "Submit a PDF file containing all your code, outputs, and write-up. You can produce a PDF of your Google Colab file by going to File > Print and then save as PDF. The Colab instructions have more information (.html files are also acceptable).\n",
        "\n",
        "Do not submit any other files produced by your code.\n",
        "\n",
        "Include a link to your colab file in your submission.\n"
      ]
    },
    {
      "cell_type": "markdown",
      "metadata": {
        "id": "zbnrp2ig1pps",
        "colab_type": "text"
      },
      "source": [
        "## Colab Link\n",
        "\n",
        "Include a link to your Colab file here. If you would like the TA to look at your\n",
        "Colab file in case your solutions are cut off, **please make sure that your Colab\n",
        "file is publicly accessible at the time of submission**.\n",
        "\n",
        "Colab Link: https://colab.research.google.com/drive/1-rXaQnQSNyE4Ip0q_7Gk0EEzSCXkapWt"
      ]
    },
    {
      "cell_type": "code",
      "metadata": {
        "id": "z3p8N43E1ppt",
        "colab_type": "code",
        "colab": {}
      },
      "source": [
        "import csv\n",
        "import numpy as np\n",
        "import random\n",
        "import torch\n",
        "import torch.utils.data"
      ],
      "execution_count": 0,
      "outputs": []
    },
    {
      "cell_type": "markdown",
      "metadata": {
        "id": "8ROwtHcz1ppx",
        "colab_type": "text"
      },
      "source": [
        "## Part 0\n",
        "\n",
        "We will be using a package called `pandas` for this assignment. \n",
        "\n",
        "If you are using Colab, `pandas` should already be available.\n",
        "If you are using your own computer,\n",
        "installation instructions for `pandas` are available here: \n",
        "https://pandas.pydata.org/pandas-docs/stable/install.html"
      ]
    },
    {
      "cell_type": "code",
      "metadata": {
        "id": "IXQ7BP151ppz",
        "colab_type": "code",
        "colab": {}
      },
      "source": [
        "import pandas as pd"
      ],
      "execution_count": 0,
      "outputs": []
    },
    {
      "cell_type": "markdown",
      "metadata": {
        "id": "hqXihb4Q1pp2",
        "colab_type": "text"
      },
      "source": [
        "# Part 1. Data Cleaning [15 pt]\n",
        "\n",
        "The adult.data file is available at `https://archive.ics.uci.edu/ml/machine-learning-databases/adult/adult.data`\n",
        "\n",
        "The function `pd.read_csv` loads the adult.data file into a pandas dataframe.\n",
        "You can read about the pandas documentation for `pd.read_csv` at\n",
        "https://pandas.pydata.org/pandas-docs/stable/reference/api/pandas.read_csv.html"
      ]
    },
    {
      "cell_type": "code",
      "metadata": {
        "id": "EOMItFKn1pp3",
        "colab_type": "code",
        "colab": {}
      },
      "source": [
        "header = ['age', 'work', 'fnlwgt', 'edu', 'yredu', 'marriage', 'occupation',\n",
        " 'relationship', 'race', 'sex', 'capgain', 'caploss', 'workhr', 'country']\n",
        "df = pd.read_csv(\n",
        "    \"https://archive.ics.uci.edu/ml/machine-learning-databases/adult/adult.data\",\n",
        "    names=header,\n",
        "    index_col=False)"
      ],
      "execution_count": 0,
      "outputs": []
    },
    {
      "cell_type": "code",
      "metadata": {
        "scrolled": true,
        "id": "62Ot405q1pp5",
        "colab_type": "code",
        "outputId": "f2d7d8c3-e6d3-405e-9414-3bb6d629c8be",
        "colab": {
          "base_uri": "https://localhost:8080/",
          "height": 36
        }
      },
      "source": [
        "df.shape # there are 32561 rows (records) in the data frame, and 14 columns (features)"
      ],
      "execution_count": 6,
      "outputs": [
        {
          "output_type": "execute_result",
          "data": {
            "text/plain": [
              "(32561, 14)"
            ]
          },
          "metadata": {
            "tags": []
          },
          "execution_count": 6
        }
      ]
    },
    {
      "cell_type": "markdown",
      "metadata": {
        "id": "Tr7YG-QY1pp8",
        "colab_type": "text"
      },
      "source": [
        "### Part (a) Continuous Features [3 pt]\n",
        "\n",
        "For each of the columns `[\"age\", \"yredu\", \"capgain\", \"caploss\", \"workhr\"]`, report the minimum, maximum, and average value across the dataset. \n",
        "\n",
        "Then, normalize each of the features `[\"age\", \"yredu\", \"capgain\", \"caploss\", \"workhr\"]`\n",
        "so that their values are always between 0 and 1.\n",
        "Make sure that you are actually modifying the dataframe `df`. \n",
        "\n",
        "Like numpy arrays and torch tensors, \n",
        "pandas data frames can be sliced. For example, we can\n",
        "display the first 3 rows of the data frame (3 records) below."
      ]
    },
    {
      "cell_type": "code",
      "metadata": {
        "scrolled": false,
        "id": "9evSLsSa1pp9",
        "colab_type": "code",
        "outputId": "07647a84-aa58-449f-c881-0f2b46331e9c",
        "colab": {
          "base_uri": "https://localhost:8080/",
          "height": 135
        }
      },
      "source": [
        "df[:3] # show the first 3 records"
      ],
      "execution_count": 7,
      "outputs": [
        {
          "output_type": "execute_result",
          "data": {
            "text/html": [
              "<div>\n",
              "<style scoped>\n",
              "    .dataframe tbody tr th:only-of-type {\n",
              "        vertical-align: middle;\n",
              "    }\n",
              "\n",
              "    .dataframe tbody tr th {\n",
              "        vertical-align: top;\n",
              "    }\n",
              "\n",
              "    .dataframe thead th {\n",
              "        text-align: right;\n",
              "    }\n",
              "</style>\n",
              "<table border=\"1\" class=\"dataframe\">\n",
              "  <thead>\n",
              "    <tr style=\"text-align: right;\">\n",
              "      <th></th>\n",
              "      <th>age</th>\n",
              "      <th>work</th>\n",
              "      <th>fnlwgt</th>\n",
              "      <th>edu</th>\n",
              "      <th>yredu</th>\n",
              "      <th>marriage</th>\n",
              "      <th>occupation</th>\n",
              "      <th>relationship</th>\n",
              "      <th>race</th>\n",
              "      <th>sex</th>\n",
              "      <th>capgain</th>\n",
              "      <th>caploss</th>\n",
              "      <th>workhr</th>\n",
              "      <th>country</th>\n",
              "    </tr>\n",
              "  </thead>\n",
              "  <tbody>\n",
              "    <tr>\n",
              "      <th>0</th>\n",
              "      <td>39</td>\n",
              "      <td>State-gov</td>\n",
              "      <td>77516</td>\n",
              "      <td>Bachelors</td>\n",
              "      <td>13</td>\n",
              "      <td>Never-married</td>\n",
              "      <td>Adm-clerical</td>\n",
              "      <td>Not-in-family</td>\n",
              "      <td>White</td>\n",
              "      <td>Male</td>\n",
              "      <td>2174</td>\n",
              "      <td>0</td>\n",
              "      <td>40</td>\n",
              "      <td>United-States</td>\n",
              "    </tr>\n",
              "    <tr>\n",
              "      <th>1</th>\n",
              "      <td>50</td>\n",
              "      <td>Self-emp-not-inc</td>\n",
              "      <td>83311</td>\n",
              "      <td>Bachelors</td>\n",
              "      <td>13</td>\n",
              "      <td>Married-civ-spouse</td>\n",
              "      <td>Exec-managerial</td>\n",
              "      <td>Husband</td>\n",
              "      <td>White</td>\n",
              "      <td>Male</td>\n",
              "      <td>0</td>\n",
              "      <td>0</td>\n",
              "      <td>13</td>\n",
              "      <td>United-States</td>\n",
              "    </tr>\n",
              "    <tr>\n",
              "      <th>2</th>\n",
              "      <td>38</td>\n",
              "      <td>Private</td>\n",
              "      <td>215646</td>\n",
              "      <td>HS-grad</td>\n",
              "      <td>9</td>\n",
              "      <td>Divorced</td>\n",
              "      <td>Handlers-cleaners</td>\n",
              "      <td>Not-in-family</td>\n",
              "      <td>White</td>\n",
              "      <td>Male</td>\n",
              "      <td>0</td>\n",
              "      <td>0</td>\n",
              "      <td>40</td>\n",
              "      <td>United-States</td>\n",
              "    </tr>\n",
              "  </tbody>\n",
              "</table>\n",
              "</div>"
            ],
            "text/plain": [
              "   age               work  fnlwgt  ... caploss  workhr         country\n",
              "0   39          State-gov   77516  ...       0      40   United-States\n",
              "1   50   Self-emp-not-inc   83311  ...       0      13   United-States\n",
              "2   38            Private  215646  ...       0      40   United-States\n",
              "\n",
              "[3 rows x 14 columns]"
            ]
          },
          "metadata": {
            "tags": []
          },
          "execution_count": 7
        }
      ]
    },
    {
      "cell_type": "markdown",
      "metadata": {
        "id": "gBOojI6W1pqA",
        "colab_type": "text"
      },
      "source": [
        "Alternatively, we can slice based on column names, \n",
        "for example `df[\"race\"]`, `df[\"hr\"]`, or even index multiple columns \n",
        "like below."
      ]
    },
    {
      "cell_type": "code",
      "metadata": {
        "id": "4v6pp73A1pqB",
        "colab_type": "code",
        "outputId": "a080ab06-5b83-43f3-9d09-cc11af74ff62",
        "colab": {
          "base_uri": "https://localhost:8080/",
          "height": 135
        }
      },
      "source": [
        "subdf = df[[\"age\", \"yredu\", \"capgain\", \"caploss\", \"workhr\"]]\n",
        "subdf[:3] # show the first 3 records"
      ],
      "execution_count": 8,
      "outputs": [
        {
          "output_type": "execute_result",
          "data": {
            "text/html": [
              "<div>\n",
              "<style scoped>\n",
              "    .dataframe tbody tr th:only-of-type {\n",
              "        vertical-align: middle;\n",
              "    }\n",
              "\n",
              "    .dataframe tbody tr th {\n",
              "        vertical-align: top;\n",
              "    }\n",
              "\n",
              "    .dataframe thead th {\n",
              "        text-align: right;\n",
              "    }\n",
              "</style>\n",
              "<table border=\"1\" class=\"dataframe\">\n",
              "  <thead>\n",
              "    <tr style=\"text-align: right;\">\n",
              "      <th></th>\n",
              "      <th>age</th>\n",
              "      <th>yredu</th>\n",
              "      <th>capgain</th>\n",
              "      <th>caploss</th>\n",
              "      <th>workhr</th>\n",
              "    </tr>\n",
              "  </thead>\n",
              "  <tbody>\n",
              "    <tr>\n",
              "      <th>0</th>\n",
              "      <td>39</td>\n",
              "      <td>13</td>\n",
              "      <td>2174</td>\n",
              "      <td>0</td>\n",
              "      <td>40</td>\n",
              "    </tr>\n",
              "    <tr>\n",
              "      <th>1</th>\n",
              "      <td>50</td>\n",
              "      <td>13</td>\n",
              "      <td>0</td>\n",
              "      <td>0</td>\n",
              "      <td>13</td>\n",
              "    </tr>\n",
              "    <tr>\n",
              "      <th>2</th>\n",
              "      <td>38</td>\n",
              "      <td>9</td>\n",
              "      <td>0</td>\n",
              "      <td>0</td>\n",
              "      <td>40</td>\n",
              "    </tr>\n",
              "  </tbody>\n",
              "</table>\n",
              "</div>"
            ],
            "text/plain": [
              "   age  yredu  capgain  caploss  workhr\n",
              "0   39     13     2174        0      40\n",
              "1   50     13        0        0      13\n",
              "2   38      9        0        0      40"
            ]
          },
          "metadata": {
            "tags": []
          },
          "execution_count": 8
        }
      ]
    },
    {
      "cell_type": "markdown",
      "metadata": {
        "id": "2Nru2P0E1pqD",
        "colab_type": "text"
      },
      "source": [
        "Numpy works nicely with pandas, like below:"
      ]
    },
    {
      "cell_type": "code",
      "metadata": {
        "id": "JXrS6tjp1pqE",
        "colab_type": "code",
        "outputId": "c9c59857-920e-49fd-b9d2-906e7b4f7351",
        "colab": {
          "base_uri": "https://localhost:8080/",
          "height": 36
        }
      },
      "source": [
        "np.sum(subdf[\"caploss\"])"
      ],
      "execution_count": 9,
      "outputs": [
        {
          "output_type": "execute_result",
          "data": {
            "text/plain": [
              "2842700"
            ]
          },
          "metadata": {
            "tags": []
          },
          "execution_count": 9
        }
      ]
    },
    {
      "cell_type": "markdown",
      "metadata": {
        "id": "Mv5mbxDM1pqH",
        "colab_type": "text"
      },
      "source": [
        "Just like numpy arrays, you can modify\n",
        "entire columns of data rather than one scalar element at a time.\n",
        "For example, the code  \n",
        "\n",
        "`df[\"age\"] = df[\"age\"] + 1` \n",
        "\n",
        "would increment everyone's age by 1."
      ]
    },
    {
      "cell_type": "code",
      "metadata": {
        "id": "k5rlWD7-1pqH",
        "colab_type": "code",
        "outputId": "01f98aa1-96b3-4c44-d1a7-3cdcb304fa62",
        "colab": {
          "base_uri": "https://localhost:8080/",
          "height": 282
        }
      },
      "source": [
        "subdf.describe()"
      ],
      "execution_count": 10,
      "outputs": [
        {
          "output_type": "execute_result",
          "data": {
            "text/html": [
              "<div>\n",
              "<style scoped>\n",
              "    .dataframe tbody tr th:only-of-type {\n",
              "        vertical-align: middle;\n",
              "    }\n",
              "\n",
              "    .dataframe tbody tr th {\n",
              "        vertical-align: top;\n",
              "    }\n",
              "\n",
              "    .dataframe thead th {\n",
              "        text-align: right;\n",
              "    }\n",
              "</style>\n",
              "<table border=\"1\" class=\"dataframe\">\n",
              "  <thead>\n",
              "    <tr style=\"text-align: right;\">\n",
              "      <th></th>\n",
              "      <th>age</th>\n",
              "      <th>yredu</th>\n",
              "      <th>capgain</th>\n",
              "      <th>caploss</th>\n",
              "      <th>workhr</th>\n",
              "    </tr>\n",
              "  </thead>\n",
              "  <tbody>\n",
              "    <tr>\n",
              "      <th>count</th>\n",
              "      <td>32561.000000</td>\n",
              "      <td>32561.000000</td>\n",
              "      <td>32561.000000</td>\n",
              "      <td>32561.000000</td>\n",
              "      <td>32561.000000</td>\n",
              "    </tr>\n",
              "    <tr>\n",
              "      <th>mean</th>\n",
              "      <td>38.581647</td>\n",
              "      <td>10.080679</td>\n",
              "      <td>1077.648844</td>\n",
              "      <td>87.303830</td>\n",
              "      <td>40.437456</td>\n",
              "    </tr>\n",
              "    <tr>\n",
              "      <th>std</th>\n",
              "      <td>13.640433</td>\n",
              "      <td>2.572720</td>\n",
              "      <td>7385.292085</td>\n",
              "      <td>402.960219</td>\n",
              "      <td>12.347429</td>\n",
              "    </tr>\n",
              "    <tr>\n",
              "      <th>min</th>\n",
              "      <td>17.000000</td>\n",
              "      <td>1.000000</td>\n",
              "      <td>0.000000</td>\n",
              "      <td>0.000000</td>\n",
              "      <td>1.000000</td>\n",
              "    </tr>\n",
              "    <tr>\n",
              "      <th>25%</th>\n",
              "      <td>28.000000</td>\n",
              "      <td>9.000000</td>\n",
              "      <td>0.000000</td>\n",
              "      <td>0.000000</td>\n",
              "      <td>40.000000</td>\n",
              "    </tr>\n",
              "    <tr>\n",
              "      <th>50%</th>\n",
              "      <td>37.000000</td>\n",
              "      <td>10.000000</td>\n",
              "      <td>0.000000</td>\n",
              "      <td>0.000000</td>\n",
              "      <td>40.000000</td>\n",
              "    </tr>\n",
              "    <tr>\n",
              "      <th>75%</th>\n",
              "      <td>48.000000</td>\n",
              "      <td>12.000000</td>\n",
              "      <td>0.000000</td>\n",
              "      <td>0.000000</td>\n",
              "      <td>45.000000</td>\n",
              "    </tr>\n",
              "    <tr>\n",
              "      <th>max</th>\n",
              "      <td>90.000000</td>\n",
              "      <td>16.000000</td>\n",
              "      <td>99999.000000</td>\n",
              "      <td>4356.000000</td>\n",
              "      <td>99.000000</td>\n",
              "    </tr>\n",
              "  </tbody>\n",
              "</table>\n",
              "</div>"
            ],
            "text/plain": [
              "                age         yredu       capgain       caploss        workhr\n",
              "count  32561.000000  32561.000000  32561.000000  32561.000000  32561.000000\n",
              "mean      38.581647     10.080679   1077.648844     87.303830     40.437456\n",
              "std       13.640433      2.572720   7385.292085    402.960219     12.347429\n",
              "min       17.000000      1.000000      0.000000      0.000000      1.000000\n",
              "25%       28.000000      9.000000      0.000000      0.000000     40.000000\n",
              "50%       37.000000     10.000000      0.000000      0.000000     40.000000\n",
              "75%       48.000000     12.000000      0.000000      0.000000     45.000000\n",
              "max       90.000000     16.000000  99999.000000   4356.000000     99.000000"
            ]
          },
          "metadata": {
            "tags": []
          },
          "execution_count": 10
        }
      ]
    },
    {
      "cell_type": "code",
      "metadata": {
        "id": "VECBsjpJkHy2",
        "colab_type": "code",
        "colab": {}
      },
      "source": [
        "from sklearn.preprocessing import MinMaxScaler"
      ],
      "execution_count": 0,
      "outputs": []
    },
    {
      "cell_type": "code",
      "metadata": {
        "id": "ggBvszx9K2xc",
        "colab_type": "code",
        "colab": {}
      },
      "source": [
        "columns_to_normalize = [\"age\", \"yredu\", \"capgain\", \"caploss\", \"workhr\"]\n",
        "scaler = MinMaxScaler()\n",
        "data_to_normalize = df[columns_to_normalize].values\n",
        "data_normed = scaler.fit_transform(data_to_normalize)\n",
        "df_temp = pd.DataFrame(data_normed, columns=columns_to_normalize, index = df.index)\n",
        "df[columns_to_normalize] = df_temp"
      ],
      "execution_count": 0,
      "outputs": []
    },
    {
      "cell_type": "code",
      "metadata": {
        "id": "EzIe2e93kqY2",
        "colab_type": "code",
        "outputId": "c8b0da72-611f-43ab-8f58-2515b03293a0",
        "colab": {
          "base_uri": "https://localhost:8080/",
          "height": 194
        }
      },
      "source": [
        "df.head()"
      ],
      "execution_count": 13,
      "outputs": [
        {
          "output_type": "execute_result",
          "data": {
            "text/html": [
              "<div>\n",
              "<style scoped>\n",
              "    .dataframe tbody tr th:only-of-type {\n",
              "        vertical-align: middle;\n",
              "    }\n",
              "\n",
              "    .dataframe tbody tr th {\n",
              "        vertical-align: top;\n",
              "    }\n",
              "\n",
              "    .dataframe thead th {\n",
              "        text-align: right;\n",
              "    }\n",
              "</style>\n",
              "<table border=\"1\" class=\"dataframe\">\n",
              "  <thead>\n",
              "    <tr style=\"text-align: right;\">\n",
              "      <th></th>\n",
              "      <th>age</th>\n",
              "      <th>work</th>\n",
              "      <th>fnlwgt</th>\n",
              "      <th>edu</th>\n",
              "      <th>yredu</th>\n",
              "      <th>marriage</th>\n",
              "      <th>occupation</th>\n",
              "      <th>relationship</th>\n",
              "      <th>race</th>\n",
              "      <th>sex</th>\n",
              "      <th>capgain</th>\n",
              "      <th>caploss</th>\n",
              "      <th>workhr</th>\n",
              "      <th>country</th>\n",
              "    </tr>\n",
              "  </thead>\n",
              "  <tbody>\n",
              "    <tr>\n",
              "      <th>0</th>\n",
              "      <td>0.301370</td>\n",
              "      <td>State-gov</td>\n",
              "      <td>77516</td>\n",
              "      <td>Bachelors</td>\n",
              "      <td>0.800000</td>\n",
              "      <td>Never-married</td>\n",
              "      <td>Adm-clerical</td>\n",
              "      <td>Not-in-family</td>\n",
              "      <td>White</td>\n",
              "      <td>Male</td>\n",
              "      <td>0.02174</td>\n",
              "      <td>0.0</td>\n",
              "      <td>0.397959</td>\n",
              "      <td>United-States</td>\n",
              "    </tr>\n",
              "    <tr>\n",
              "      <th>1</th>\n",
              "      <td>0.452055</td>\n",
              "      <td>Self-emp-not-inc</td>\n",
              "      <td>83311</td>\n",
              "      <td>Bachelors</td>\n",
              "      <td>0.800000</td>\n",
              "      <td>Married-civ-spouse</td>\n",
              "      <td>Exec-managerial</td>\n",
              "      <td>Husband</td>\n",
              "      <td>White</td>\n",
              "      <td>Male</td>\n",
              "      <td>0.00000</td>\n",
              "      <td>0.0</td>\n",
              "      <td>0.122449</td>\n",
              "      <td>United-States</td>\n",
              "    </tr>\n",
              "    <tr>\n",
              "      <th>2</th>\n",
              "      <td>0.287671</td>\n",
              "      <td>Private</td>\n",
              "      <td>215646</td>\n",
              "      <td>HS-grad</td>\n",
              "      <td>0.533333</td>\n",
              "      <td>Divorced</td>\n",
              "      <td>Handlers-cleaners</td>\n",
              "      <td>Not-in-family</td>\n",
              "      <td>White</td>\n",
              "      <td>Male</td>\n",
              "      <td>0.00000</td>\n",
              "      <td>0.0</td>\n",
              "      <td>0.397959</td>\n",
              "      <td>United-States</td>\n",
              "    </tr>\n",
              "    <tr>\n",
              "      <th>3</th>\n",
              "      <td>0.493151</td>\n",
              "      <td>Private</td>\n",
              "      <td>234721</td>\n",
              "      <td>11th</td>\n",
              "      <td>0.400000</td>\n",
              "      <td>Married-civ-spouse</td>\n",
              "      <td>Handlers-cleaners</td>\n",
              "      <td>Husband</td>\n",
              "      <td>Black</td>\n",
              "      <td>Male</td>\n",
              "      <td>0.00000</td>\n",
              "      <td>0.0</td>\n",
              "      <td>0.397959</td>\n",
              "      <td>United-States</td>\n",
              "    </tr>\n",
              "    <tr>\n",
              "      <th>4</th>\n",
              "      <td>0.150685</td>\n",
              "      <td>Private</td>\n",
              "      <td>338409</td>\n",
              "      <td>Bachelors</td>\n",
              "      <td>0.800000</td>\n",
              "      <td>Married-civ-spouse</td>\n",
              "      <td>Prof-specialty</td>\n",
              "      <td>Wife</td>\n",
              "      <td>Black</td>\n",
              "      <td>Female</td>\n",
              "      <td>0.00000</td>\n",
              "      <td>0.0</td>\n",
              "      <td>0.397959</td>\n",
              "      <td>Cuba</td>\n",
              "    </tr>\n",
              "  </tbody>\n",
              "</table>\n",
              "</div>"
            ],
            "text/plain": [
              "        age               work  fnlwgt  ... caploss    workhr         country\n",
              "0  0.301370          State-gov   77516  ...     0.0  0.397959   United-States\n",
              "1  0.452055   Self-emp-not-inc   83311  ...     0.0  0.122449   United-States\n",
              "2  0.287671            Private  215646  ...     0.0  0.397959   United-States\n",
              "3  0.493151            Private  234721  ...     0.0  0.397959   United-States\n",
              "4  0.150685            Private  338409  ...     0.0  0.397959            Cuba\n",
              "\n",
              "[5 rows x 14 columns]"
            ]
          },
          "metadata": {
            "tags": []
          },
          "execution_count": 13
        }
      ]
    },
    {
      "cell_type": "markdown",
      "metadata": {
        "id": "qbfMly4R1pqK",
        "colab_type": "text"
      },
      "source": [
        "### Part (b) Categorical Features [1 pt]\n",
        "\n",
        "What percentage of people in our data set are male? Note that the data labels all have an unfortunate space in the beginning, e.g. \" Male\" instead of \"Male\".\n",
        "\n",
        "What percentage of people in our data set are female?"
      ]
    },
    {
      "cell_type": "code",
      "metadata": {
        "id": "DjAjcsB_1pqK",
        "colab_type": "code",
        "outputId": "59075e16-96ba-463a-cfec-3cd050c4e519",
        "colab": {
          "base_uri": "https://localhost:8080/",
          "height": 36
        }
      },
      "source": [
        "# hint: you can do something like this in pandas\n",
        "fraction_male = sum(df[\"sex\"] == \" Male\")/32561\n",
        "fraction_female = sum(df[\"sex\"] == \" Female\")/32561\n",
        "\n",
        "print(\"male\", fraction_male*100, \"%\", \"female\", fraction_female*100, \"%\")"
      ],
      "execution_count": 14,
      "outputs": [
        {
          "output_type": "stream",
          "text": [
            "male 66.92054912318419 % female 33.07945087681583 %\n"
          ],
          "name": "stdout"
        }
      ]
    },
    {
      "cell_type": "markdown",
      "metadata": {
        "id": "eGVw7pqL1pqN",
        "colab_type": "text"
      },
      "source": [
        "### Part (c) [2 pt]\n",
        "\n",
        "Before proceeding, we will modify our data frame in a couple more ways:\n",
        "\n",
        "1. We will restrict ourselves to using a subset of the features (to simplify our autoencoder)\n",
        "2. We will remove any records (rows) already containing missing values, and store them in a second dataframe. We will only use records without missing values to train our autoencoder.\n",
        "\n",
        "Both of these steps are done for you, below.\n",
        "\n",
        "How many records contained missing features? What percentage of records were removed?"
      ]
    },
    {
      "cell_type": "code",
      "metadata": {
        "id": "z6ewPUdv1pqO",
        "colab_type": "code",
        "colab": {}
      },
      "source": [
        "contcols = [\"age\", \"yredu\", \"capgain\", \"caploss\", \"workhr\"]\n",
        "catcols = [\"work\", \"marriage\", \"occupation\", \"edu\", \"relationship\", \"sex\"]\n",
        "features = contcols + catcols\n",
        "df = df[features]"
      ],
      "execution_count": 0,
      "outputs": []
    },
    {
      "cell_type": "code",
      "metadata": {
        "id": "fjdVll5a1pqQ",
        "colab_type": "code",
        "colab": {}
      },
      "source": [
        "missing = pd.concat([df[c] == \" ?\" for c in catcols], axis=1).any(axis=1)\n",
        "df_with_missing = df[missing]\n",
        "df_not_missing = df[~missing] #~ means not"
      ],
      "execution_count": 0,
      "outputs": []
    },
    {
      "cell_type": "code",
      "metadata": {
        "id": "u7zlv6nElUif",
        "colab_type": "code",
        "outputId": "4598e4f0-7693-4a85-f394-0a1f5b47358a",
        "colab": {
          "base_uri": "https://localhost:8080/",
          "height": 36
        }
      },
      "source": [
        "df.shape"
      ],
      "execution_count": 17,
      "outputs": [
        {
          "output_type": "execute_result",
          "data": {
            "text/plain": [
              "(32561, 11)"
            ]
          },
          "metadata": {
            "tags": []
          },
          "execution_count": 17
        }
      ]
    },
    {
      "cell_type": "code",
      "metadata": {
        "id": "ngyuPsMgk8qs",
        "colab_type": "code",
        "outputId": "dfb39000-acc4-417e-a345-06f01830e2bd",
        "colab": {
          "base_uri": "https://localhost:8080/",
          "height": 36
        }
      },
      "source": [
        "df_with_missing.shape"
      ],
      "execution_count": 18,
      "outputs": [
        {
          "output_type": "execute_result",
          "data": {
            "text/plain": [
              "(1843, 11)"
            ]
          },
          "metadata": {
            "tags": []
          },
          "execution_count": 18
        }
      ]
    },
    {
      "cell_type": "code",
      "metadata": {
        "id": "fI9Rw6QTlLID",
        "colab_type": "code",
        "outputId": "4cc1804f-c877-4e0e-a12d-e85be38eb71a",
        "colab": {
          "base_uri": "https://localhost:8080/",
          "height": 36
        }
      },
      "source": [
        "df_not_missing.shape"
      ],
      "execution_count": 19,
      "outputs": [
        {
          "output_type": "execute_result",
          "data": {
            "text/plain": [
              "(30718, 11)"
            ]
          },
          "metadata": {
            "tags": []
          },
          "execution_count": 19
        }
      ]
    },
    {
      "cell_type": "markdown",
      "metadata": {
        "id": "ePLcrFbhlX5e",
        "colab_type": "text"
      },
      "source": [
        "1843 records contained missing features and were removed. This is 1843/32561 of the records, or 5.7%."
      ]
    },
    {
      "cell_type": "markdown",
      "metadata": {
        "id": "XuEpndTQ1pqU",
        "colab_type": "text"
      },
      "source": [
        "### Part (d) One-Hot Encoding [1 pt]\n",
        "\n",
        "What are all the possible values of the feature \"work\" in `df_not_missing`? You may find the Python function `set` useful."
      ]
    },
    {
      "cell_type": "code",
      "metadata": {
        "id": "iKFh4owE1pqV",
        "colab_type": "code",
        "outputId": "97bd8369-f6ae-4b2c-9afc-a3abd8e54f9f",
        "colab": {
          "base_uri": "https://localhost:8080/",
          "height": 154
        }
      },
      "source": [
        "set(df_not_missing['work'])"
      ],
      "execution_count": 20,
      "outputs": [
        {
          "output_type": "execute_result",
          "data": {
            "text/plain": [
              "{' Federal-gov',\n",
              " ' Local-gov',\n",
              " ' Private',\n",
              " ' Self-emp-inc',\n",
              " ' Self-emp-not-inc',\n",
              " ' State-gov',\n",
              " ' Without-pay'}"
            ]
          },
          "metadata": {
            "tags": []
          },
          "execution_count": 20
        }
      ]
    },
    {
      "cell_type": "markdown",
      "metadata": {
        "id": "COv3HaKr1pqY",
        "colab_type": "text"
      },
      "source": [
        "We will be using a one-hot encoding to represent each of the categorical variables.\n",
        "Our autoencoder will be trained using these one-hot encodings.\n",
        "\n",
        "We will use the pandas function `get_dummies` to produce one-hot encodings\n",
        "for all of the categorical variables in `df_not_missing`. "
      ]
    },
    {
      "cell_type": "code",
      "metadata": {
        "id": "eKlSYmJg1pqZ",
        "colab_type": "code",
        "colab": {}
      },
      "source": [
        "data = pd.get_dummies(df_not_missing)"
      ],
      "execution_count": 0,
      "outputs": []
    },
    {
      "cell_type": "code",
      "metadata": {
        "scrolled": true,
        "id": "3y7nTZ7H1pqb",
        "colab_type": "code",
        "outputId": "e40ce565-f4f2-4aba-97c8-38ab9bb48fa6",
        "colab": {
          "base_uri": "https://localhost:8080/",
          "height": 223
        }
      },
      "source": [
        "data[:3]"
      ],
      "execution_count": 22,
      "outputs": [
        {
          "output_type": "execute_result",
          "data": {
            "text/html": [
              "<div>\n",
              "<style scoped>\n",
              "    .dataframe tbody tr th:only-of-type {\n",
              "        vertical-align: middle;\n",
              "    }\n",
              "\n",
              "    .dataframe tbody tr th {\n",
              "        vertical-align: top;\n",
              "    }\n",
              "\n",
              "    .dataframe thead th {\n",
              "        text-align: right;\n",
              "    }\n",
              "</style>\n",
              "<table border=\"1\" class=\"dataframe\">\n",
              "  <thead>\n",
              "    <tr style=\"text-align: right;\">\n",
              "      <th></th>\n",
              "      <th>age</th>\n",
              "      <th>yredu</th>\n",
              "      <th>capgain</th>\n",
              "      <th>caploss</th>\n",
              "      <th>workhr</th>\n",
              "      <th>work_ Federal-gov</th>\n",
              "      <th>work_ Local-gov</th>\n",
              "      <th>work_ Private</th>\n",
              "      <th>work_ Self-emp-inc</th>\n",
              "      <th>work_ Self-emp-not-inc</th>\n",
              "      <th>work_ State-gov</th>\n",
              "      <th>work_ Without-pay</th>\n",
              "      <th>marriage_ Divorced</th>\n",
              "      <th>marriage_ Married-AF-spouse</th>\n",
              "      <th>marriage_ Married-civ-spouse</th>\n",
              "      <th>marriage_ Married-spouse-absent</th>\n",
              "      <th>marriage_ Never-married</th>\n",
              "      <th>marriage_ Separated</th>\n",
              "      <th>marriage_ Widowed</th>\n",
              "      <th>occupation_ Adm-clerical</th>\n",
              "      <th>occupation_ Armed-Forces</th>\n",
              "      <th>occupation_ Craft-repair</th>\n",
              "      <th>occupation_ Exec-managerial</th>\n",
              "      <th>occupation_ Farming-fishing</th>\n",
              "      <th>occupation_ Handlers-cleaners</th>\n",
              "      <th>occupation_ Machine-op-inspct</th>\n",
              "      <th>occupation_ Other-service</th>\n",
              "      <th>occupation_ Priv-house-serv</th>\n",
              "      <th>occupation_ Prof-specialty</th>\n",
              "      <th>occupation_ Protective-serv</th>\n",
              "      <th>occupation_ Sales</th>\n",
              "      <th>occupation_ Tech-support</th>\n",
              "      <th>occupation_ Transport-moving</th>\n",
              "      <th>edu_ 10th</th>\n",
              "      <th>edu_ 11th</th>\n",
              "      <th>edu_ 12th</th>\n",
              "      <th>edu_ 1st-4th</th>\n",
              "      <th>edu_ 5th-6th</th>\n",
              "      <th>edu_ 7th-8th</th>\n",
              "      <th>edu_ 9th</th>\n",
              "      <th>edu_ Assoc-acdm</th>\n",
              "      <th>edu_ Assoc-voc</th>\n",
              "      <th>edu_ Bachelors</th>\n",
              "      <th>edu_ Doctorate</th>\n",
              "      <th>edu_ HS-grad</th>\n",
              "      <th>edu_ Masters</th>\n",
              "      <th>edu_ Preschool</th>\n",
              "      <th>edu_ Prof-school</th>\n",
              "      <th>edu_ Some-college</th>\n",
              "      <th>relationship_ Husband</th>\n",
              "      <th>relationship_ Not-in-family</th>\n",
              "      <th>relationship_ Other-relative</th>\n",
              "      <th>relationship_ Own-child</th>\n",
              "      <th>relationship_ Unmarried</th>\n",
              "      <th>relationship_ Wife</th>\n",
              "      <th>sex_ Female</th>\n",
              "      <th>sex_ Male</th>\n",
              "    </tr>\n",
              "  </thead>\n",
              "  <tbody>\n",
              "    <tr>\n",
              "      <th>0</th>\n",
              "      <td>0.301370</td>\n",
              "      <td>0.800000</td>\n",
              "      <td>0.02174</td>\n",
              "      <td>0.0</td>\n",
              "      <td>0.397959</td>\n",
              "      <td>0</td>\n",
              "      <td>0</td>\n",
              "      <td>0</td>\n",
              "      <td>0</td>\n",
              "      <td>0</td>\n",
              "      <td>1</td>\n",
              "      <td>0</td>\n",
              "      <td>0</td>\n",
              "      <td>0</td>\n",
              "      <td>0</td>\n",
              "      <td>0</td>\n",
              "      <td>1</td>\n",
              "      <td>0</td>\n",
              "      <td>0</td>\n",
              "      <td>1</td>\n",
              "      <td>0</td>\n",
              "      <td>0</td>\n",
              "      <td>0</td>\n",
              "      <td>0</td>\n",
              "      <td>0</td>\n",
              "      <td>0</td>\n",
              "      <td>0</td>\n",
              "      <td>0</td>\n",
              "      <td>0</td>\n",
              "      <td>0</td>\n",
              "      <td>0</td>\n",
              "      <td>0</td>\n",
              "      <td>0</td>\n",
              "      <td>0</td>\n",
              "      <td>0</td>\n",
              "      <td>0</td>\n",
              "      <td>0</td>\n",
              "      <td>0</td>\n",
              "      <td>0</td>\n",
              "      <td>0</td>\n",
              "      <td>0</td>\n",
              "      <td>0</td>\n",
              "      <td>1</td>\n",
              "      <td>0</td>\n",
              "      <td>0</td>\n",
              "      <td>0</td>\n",
              "      <td>0</td>\n",
              "      <td>0</td>\n",
              "      <td>0</td>\n",
              "      <td>0</td>\n",
              "      <td>1</td>\n",
              "      <td>0</td>\n",
              "      <td>0</td>\n",
              "      <td>0</td>\n",
              "      <td>0</td>\n",
              "      <td>0</td>\n",
              "      <td>1</td>\n",
              "    </tr>\n",
              "    <tr>\n",
              "      <th>1</th>\n",
              "      <td>0.452055</td>\n",
              "      <td>0.800000</td>\n",
              "      <td>0.00000</td>\n",
              "      <td>0.0</td>\n",
              "      <td>0.122449</td>\n",
              "      <td>0</td>\n",
              "      <td>0</td>\n",
              "      <td>0</td>\n",
              "      <td>0</td>\n",
              "      <td>1</td>\n",
              "      <td>0</td>\n",
              "      <td>0</td>\n",
              "      <td>0</td>\n",
              "      <td>0</td>\n",
              "      <td>1</td>\n",
              "      <td>0</td>\n",
              "      <td>0</td>\n",
              "      <td>0</td>\n",
              "      <td>0</td>\n",
              "      <td>0</td>\n",
              "      <td>0</td>\n",
              "      <td>0</td>\n",
              "      <td>1</td>\n",
              "      <td>0</td>\n",
              "      <td>0</td>\n",
              "      <td>0</td>\n",
              "      <td>0</td>\n",
              "      <td>0</td>\n",
              "      <td>0</td>\n",
              "      <td>0</td>\n",
              "      <td>0</td>\n",
              "      <td>0</td>\n",
              "      <td>0</td>\n",
              "      <td>0</td>\n",
              "      <td>0</td>\n",
              "      <td>0</td>\n",
              "      <td>0</td>\n",
              "      <td>0</td>\n",
              "      <td>0</td>\n",
              "      <td>0</td>\n",
              "      <td>0</td>\n",
              "      <td>0</td>\n",
              "      <td>1</td>\n",
              "      <td>0</td>\n",
              "      <td>0</td>\n",
              "      <td>0</td>\n",
              "      <td>0</td>\n",
              "      <td>0</td>\n",
              "      <td>0</td>\n",
              "      <td>1</td>\n",
              "      <td>0</td>\n",
              "      <td>0</td>\n",
              "      <td>0</td>\n",
              "      <td>0</td>\n",
              "      <td>0</td>\n",
              "      <td>0</td>\n",
              "      <td>1</td>\n",
              "    </tr>\n",
              "    <tr>\n",
              "      <th>2</th>\n",
              "      <td>0.287671</td>\n",
              "      <td>0.533333</td>\n",
              "      <td>0.00000</td>\n",
              "      <td>0.0</td>\n",
              "      <td>0.397959</td>\n",
              "      <td>0</td>\n",
              "      <td>0</td>\n",
              "      <td>1</td>\n",
              "      <td>0</td>\n",
              "      <td>0</td>\n",
              "      <td>0</td>\n",
              "      <td>0</td>\n",
              "      <td>1</td>\n",
              "      <td>0</td>\n",
              "      <td>0</td>\n",
              "      <td>0</td>\n",
              "      <td>0</td>\n",
              "      <td>0</td>\n",
              "      <td>0</td>\n",
              "      <td>0</td>\n",
              "      <td>0</td>\n",
              "      <td>0</td>\n",
              "      <td>0</td>\n",
              "      <td>0</td>\n",
              "      <td>1</td>\n",
              "      <td>0</td>\n",
              "      <td>0</td>\n",
              "      <td>0</td>\n",
              "      <td>0</td>\n",
              "      <td>0</td>\n",
              "      <td>0</td>\n",
              "      <td>0</td>\n",
              "      <td>0</td>\n",
              "      <td>0</td>\n",
              "      <td>0</td>\n",
              "      <td>0</td>\n",
              "      <td>0</td>\n",
              "      <td>0</td>\n",
              "      <td>0</td>\n",
              "      <td>0</td>\n",
              "      <td>0</td>\n",
              "      <td>0</td>\n",
              "      <td>0</td>\n",
              "      <td>0</td>\n",
              "      <td>1</td>\n",
              "      <td>0</td>\n",
              "      <td>0</td>\n",
              "      <td>0</td>\n",
              "      <td>0</td>\n",
              "      <td>0</td>\n",
              "      <td>1</td>\n",
              "      <td>0</td>\n",
              "      <td>0</td>\n",
              "      <td>0</td>\n",
              "      <td>0</td>\n",
              "      <td>0</td>\n",
              "      <td>1</td>\n",
              "    </tr>\n",
              "  </tbody>\n",
              "</table>\n",
              "</div>"
            ],
            "text/plain": [
              "        age     yredu  capgain  ...  relationship_ Wife  sex_ Female  sex_ Male\n",
              "0  0.301370  0.800000  0.02174  ...                   0            0          1\n",
              "1  0.452055  0.800000  0.00000  ...                   0            0          1\n",
              "2  0.287671  0.533333  0.00000  ...                   0            0          1\n",
              "\n",
              "[3 rows x 57 columns]"
            ]
          },
          "metadata": {
            "tags": []
          },
          "execution_count": 22
        }
      ]
    },
    {
      "cell_type": "markdown",
      "metadata": {
        "id": "HwjDg1uM1pqe",
        "colab_type": "text"
      },
      "source": [
        "### Part (e) One-Hot Encoding [2 pt]\n",
        "\n",
        "The dataframe `data` contains the cleaned and normalized data that we will use to train our denoising autoencoder.\n",
        "\n",
        "How many **columns** (features) are in the dataframe `data`?\n",
        "\n",
        "Briefly explain where that number come from."
      ]
    },
    {
      "cell_type": "code",
      "metadata": {
        "id": "4PmAOdExOXew",
        "colab_type": "code",
        "outputId": "2cdec1ff-e273-4808-c3f2-f1245f64de00",
        "colab": {
          "base_uri": "https://localhost:8080/",
          "height": 36
        }
      },
      "source": [
        "data.shape"
      ],
      "execution_count": 23,
      "outputs": [
        {
          "output_type": "execute_result",
          "data": {
            "text/plain": [
              "(30718, 57)"
            ]
          },
          "metadata": {
            "tags": []
          },
          "execution_count": 23
        }
      ]
    },
    {
      "cell_type": "markdown",
      "metadata": {
        "id": "OQvmfPpcNT2S",
        "colab_type": "text"
      },
      "source": [
        "There are now 57 columns, because each possible value of each categorical feature got its own column after pd.get_dummies."
      ]
    },
    {
      "cell_type": "markdown",
      "metadata": {
        "id": "OEJ0Ci3l1pqh",
        "colab_type": "text"
      },
      "source": [
        "### Part (f) One-Hot Conversion [3 pt]\n",
        "\n",
        "We will convert the pandas data frame `data` into numpy, so that\n",
        "it can be further converted into a PyTorch tensor.\n",
        "However, in doing so, we lose the column label information that\n",
        "a panda data frame automatically stores.\n",
        "\n",
        "Complete the function `get_categorical_value` that will return\n",
        "the named value of a feature given a one-hot embedding.\n",
        "You may find the global variables `cat_index` and `cat_values`\n",
        "useful. (Display them and figure out what they are first.)\n",
        "\n",
        " **We will need this function in the next part of the lab\n",
        "to interpret our autoencoder outputs. So, the input\n",
        "to our function `get_categorical_values` might not \n",
        "actually be \"one-hot\" -- the input may instead \n",
        "contain real-valued predictions from our neural network.**"
      ]
    },
    {
      "cell_type": "code",
      "metadata": {
        "id": "ZmovX6gu1pqi",
        "colab_type": "code",
        "colab": {}
      },
      "source": [
        "datanp = data.values.astype(np.float32)"
      ],
      "execution_count": 0,
      "outputs": []
    },
    {
      "cell_type": "code",
      "metadata": {
        "id": "YRIa5MBd1pql",
        "colab_type": "code",
        "colab": {}
      },
      "source": [
        "cat_index = {}  # Mapping of feature -> start index of feature in a record\n",
        "cat_values = {} # Mapping of feature -> list of categorical values the feature can take\n",
        "\n",
        "# build up the cat_index and cat_values dictionary\n",
        "for i, header in enumerate(data.keys()):\n",
        "    if \"_\" in header: # categorical header\n",
        "        feature, value = header.split()\n",
        "        feature = feature[:-1] # remove the last char; it is always an underscore\n",
        "        if feature not in cat_index:\n",
        "            cat_index[feature] = i\n",
        "            cat_values[feature] = [value]\n",
        "        else:\n",
        "            cat_values[feature].append(value)\n",
        "            #print(cat_values[feature])\n",
        "            #print(cat_index[feature])\n",
        "\n",
        "def get_onehot(record, feature):\n",
        "    \"\"\"\n",
        "    Return the portion of `record` that is the one-hot encoding\n",
        "    of `feature`. For example, since the feature \"work\" is stored\n",
        "    in the indices [5:12] in each record, calling `get_range(record, \"work\")`\n",
        "    is equivalent to accessing `record[5:12]`.\n",
        "    \n",
        "    Args:\n",
        "        - record: a numpy array representing one record, formatted\n",
        "                  the same way as a row in `data.np`\n",
        "        - feature: a string, should be an element of `catcols`\n",
        "    \"\"\"\n",
        "    start_index = cat_index[feature]\n",
        "    stop_index = cat_index[feature] + len(cat_values[feature])\n",
        "    return record[start_index:stop_index]\n",
        "\n",
        "def get_categorical_value(onehot, feature):\n",
        "    \"\"\"\n",
        "    Return the categorical value name of a feature given\n",
        "    a one-hot vector representing the feature.\n",
        "    \n",
        "    Args:\n",
        "        - onehot: a numpy array one-hot representation of the feature\n",
        "        - feature: a string, should be an element of `catcols`\n",
        "        \n",
        "    Examples:\n",
        "    \n",
        "    >>> get_categorical_value(np.array([0., 0., 0., 0., 0., 1., 0.]), \"work\")\n",
        "    'State-gov'\n",
        "    >>> get_categorical_value(np.array([0.1, 0., 1.1, 0.2, 0., 1., 0.]), \"work\")\n",
        "    'Private'\n",
        "    \"\"\"\n",
        "    return cat_values[feature][onehot.argmax()] \n",
        "   #onehot is prediction from nn, find index with max probability to find value"
      ],
      "execution_count": 0,
      "outputs": []
    },
    {
      "cell_type": "code",
      "metadata": {
        "id": "1om7-oE7mn14",
        "colab_type": "code",
        "outputId": "38d96800-11c6-42bd-adb7-cd3447871abe",
        "colab": {
          "base_uri": "https://localhost:8080/",
          "height": 36
        }
      },
      "source": [
        "get_categorical_value(np.array([0., 0., 0., 0., 0., 1., 0.]), \"work\")"
      ],
      "execution_count": 26,
      "outputs": [
        {
          "output_type": "execute_result",
          "data": {
            "text/plain": [
              "'State-gov'"
            ]
          },
          "metadata": {
            "tags": []
          },
          "execution_count": 26
        }
      ]
    },
    {
      "cell_type": "code",
      "metadata": {
        "id": "T_XXxZdh1pqv",
        "colab_type": "code",
        "colab": {}
      },
      "source": [
        "# more useful code, used during training, that depends on the function\n",
        "# you write above\n",
        "\n",
        "def get_feature(record, feature):\n",
        "    \"\"\"\n",
        "    Return the categorical feature value of a record\n",
        "    \"\"\"\n",
        "    onehot = get_onehot(record, feature)\n",
        "    return get_categorical_value(onehot, feature)\n",
        "\n",
        "def get_features(record):\n",
        "    \"\"\"\n",
        "    Return a dictionary of all categorical feature values of a record\n",
        "    \"\"\"\n",
        "    return { f: get_feature(record, f) for f in catcols }"
      ],
      "execution_count": 0,
      "outputs": []
    },
    {
      "cell_type": "code",
      "metadata": {
        "id": "1A0m0duZeO4A",
        "colab_type": "code",
        "outputId": "b22e317a-f219-4b77-bdb2-cc318c72fa36",
        "colab": {
          "base_uri": "https://localhost:8080/",
          "height": 76
        }
      },
      "source": [
        "print(cat_values, \"\\n\", cat_index)"
      ],
      "execution_count": 28,
      "outputs": [
        {
          "output_type": "stream",
          "text": [
            "{'work': ['Federal-gov', 'Local-gov', 'Private', 'Self-emp-inc', 'Self-emp-not-inc', 'State-gov', 'Without-pay'], 'marriage': ['Divorced', 'Married-AF-spouse', 'Married-civ-spouse', 'Married-spouse-absent', 'Never-married', 'Separated', 'Widowed'], 'occupation': ['Adm-clerical', 'Armed-Forces', 'Craft-repair', 'Exec-managerial', 'Farming-fishing', 'Handlers-cleaners', 'Machine-op-inspct', 'Other-service', 'Priv-house-serv', 'Prof-specialty', 'Protective-serv', 'Sales', 'Tech-support', 'Transport-moving'], 'edu': ['10th', '11th', '12th', '1st-4th', '5th-6th', '7th-8th', '9th', 'Assoc-acdm', 'Assoc-voc', 'Bachelors', 'Doctorate', 'HS-grad', 'Masters', 'Preschool', 'Prof-school', 'Some-college'], 'relationship': ['Husband', 'Not-in-family', 'Other-relative', 'Own-child', 'Unmarried', 'Wife'], 'sex': ['Female', 'Male']} \n",
            " {'work': 5, 'marriage': 12, 'occupation': 19, 'edu': 33, 'relationship': 49, 'sex': 55}\n"
          ],
          "name": "stdout"
        }
      ]
    },
    {
      "cell_type": "markdown",
      "metadata": {
        "id": "1_5ZZR_J1pqy",
        "colab_type": "text"
      },
      "source": [
        "### Part (g) Train/Test Split [3 pt]\n",
        "\n",
        "Randomly split the data into approximately 70% training, 15% validation and 15% test.\n",
        "\n",
        "Report the number of items in your training, validation, and test set."
      ]
    },
    {
      "cell_type": "code",
      "metadata": {
        "id": "cZVOXvHMgAjV",
        "colab_type": "code",
        "outputId": "a845cf86-fb42-4e69-cf3b-b78cfd15d9ec",
        "colab": {
          "base_uri": "https://localhost:8080/",
          "height": 271
        }
      },
      "source": [
        "datanp"
      ],
      "execution_count": 29,
      "outputs": [
        {
          "output_type": "execute_result",
          "data": {
            "text/plain": [
              "array([[0.30136988, 0.8       , 0.02174022, ..., 0.        , 0.        ,\n",
              "        1.        ],\n",
              "       [0.4520548 , 0.8       , 0.        , ..., 0.        , 0.        ,\n",
              "        1.        ],\n",
              "       [0.28767124, 0.53333336, 0.        , ..., 0.        , 0.        ,\n",
              "        1.        ],\n",
              "       ...,\n",
              "       [0.56164384, 0.53333336, 0.        , ..., 0.        , 1.        ,\n",
              "        0.        ],\n",
              "       [0.06849315, 0.53333336, 0.        , ..., 0.        , 0.        ,\n",
              "        1.        ],\n",
              "       [0.47945204, 0.53333336, 0.15024151, ..., 1.        , 1.        ,\n",
              "        0.        ]], dtype=float32)"
            ]
          },
          "metadata": {
            "tags": []
          },
          "execution_count": 29
        }
      ]
    },
    {
      "cell_type": "code",
      "metadata": {
        "id": "TE_fTJJf1pqz",
        "colab_type": "code",
        "outputId": "ef0d16c5-90f5-4bc5-f21d-6f44d9ef89a2",
        "colab": {
          "base_uri": "https://localhost:8080/",
          "height": 76
        }
      },
      "source": [
        "# set the numpy seed for reproducibility\n",
        "# https://docs.scipy.org/doc/numpy/reference/generated/numpy.random.seed.html\n",
        "np.random.seed(50)\n",
        "\n",
        "#index labels, randomly shuffle, then split 70%, 15%, 15% \n",
        "np.random.shuffle(datanp)\n",
        "\n",
        "train_index = int(datanp.shape[0] * 0.7)\n",
        "val_index = int(datanp.shape[0] * 0.85)\n",
        "\n",
        "train_set = datanp[:train_index]\n",
        "val_set = datanp[train_index:val_index]\n",
        "test_set = datanp[val_index:]\n",
        "\n",
        "print(\"# Train Set: \" + str(train_set.shape[0]))\n",
        "print(\"# Test Set: \" + str(val_set.shape[0]))\n",
        "print(\"# Val Set: \" + str(test_set.shape[0]))"
      ],
      "execution_count": 30,
      "outputs": [
        {
          "output_type": "stream",
          "text": [
            "# Train Set: 21502\n",
            "# Test Set: 4608\n",
            "# Val Set: 4608\n"
          ],
          "name": "stdout"
        }
      ]
    },
    {
      "cell_type": "markdown",
      "metadata": {
        "id": "h9wJAKOI1pq3",
        "colab_type": "text"
      },
      "source": [
        "## Part 2. Model Setup [5 pt]\n",
        "\n",
        "### Part (a) [4 pt]\n",
        "\n",
        "Design a fully-connected autoencoder by modifying the `encoder` and `decoder`\n",
        "below.\n",
        "\n",
        "The input to this autoencoder will be the features of the `data`, with\n",
        "one categorical feature recorded as \"missing\". The output of the autoencoder\n",
        "should be the reconstruction of the same features, but with the missing\n",
        "value filled in.\n",
        "\n",
        "**Note**: Do not reduce the dimensionality of the input too much!\n",
        "The output of your embedding is expected to contain information \n",
        "about ~11 features."
      ]
    },
    {
      "cell_type": "code",
      "metadata": {
        "id": "f3F--tdn1pq3",
        "colab_type": "code",
        "colab": {}
      },
      "source": [
        "from torch import nn\n",
        "\n",
        "class AutoEncoder(nn.Module):\n",
        "    def __init__(self):\n",
        "        super(AutoEncoder, self).__init__()\n",
        "        self.encoder = nn.Sequential(\n",
        "            nn.Linear(57, 40), \n",
        "            nn.Linear(40, 20)\n",
        "        )\n",
        "        self.decoder = nn.Sequential(\n",
        "            nn.Linear(20,40),\n",
        "            nn.Linear(40, 57), \n",
        "            nn.Sigmoid() # get to the range (0, 1)\n",
        "        )\n",
        "\n",
        "    def forward(self, x):\n",
        "        x = self.encoder(x)\n",
        "        x = self.decoder(x)\n",
        "        return x"
      ],
      "execution_count": 0,
      "outputs": []
    },
    {
      "cell_type": "markdown",
      "metadata": {
        "id": "kuEzTSAv1pq6",
        "colab_type": "text"
      },
      "source": [
        "### Part (b) [1 pt]\n",
        "\n",
        "Explain why there is a sigmoid activation in the last step of the decoder.\n",
        "\n",
        "(**Note**: the values inside the data frame `data` and the training code in Part 3 might be helpful.)"
      ]
    },
    {
      "cell_type": "markdown",
      "metadata": {
        "id": "rQMimcQNNb8l",
        "colab_type": "text"
      },
      "source": [
        "The sigmoid activation ensures that the output of the decoder is between 0 and 1. This is the output of the prediction of the autoencoder. "
      ]
    },
    {
      "cell_type": "markdown",
      "metadata": {
        "id": "jYwqFWVl1pq8",
        "colab_type": "text"
      },
      "source": [
        "## Part 3. Training [18] \n",
        "\n",
        "### Part (a) [6 pt]\n",
        "\n",
        "We will train our autoencoder in the following way:\n",
        "\n",
        "- In each iteration, we will hide one of the categorical features using the `zero_out_random_features` function\n",
        "- We will pass the data with one missing feature through the autoencoder, and obtain a reconstruction\n",
        "- We will check how close the reconstruction is compared to the original data -- including the value of the missing feature\n",
        "\n",
        "Complete the code to train the autoencoder, and plot the training and validation loss every few iterations.\n",
        "You may also want to plot training and validation \"accuracy\" every few iterations, as we will define in\n",
        "part (b). You may also want to checkpoint your model every few iterations or epochs.\n",
        "\n",
        "Use `nn.MSELoss()` as your loss function. (Side note: you might recognize that this loss function is not\n",
        "ideal for this problem, but we will use it anyway.)"
      ]
    },
    {
      "cell_type": "code",
      "metadata": {
        "id": "So5W2_J30NXc",
        "colab_type": "code",
        "colab": {}
      },
      "source": [
        "import matplotlib.pyplot as plt"
      ],
      "execution_count": 0,
      "outputs": []
    },
    {
      "cell_type": "code",
      "metadata": {
        "id": "IDQA_-dS1pq9",
        "colab_type": "code",
        "colab": {}
      },
      "source": [
        "def zero_out_feature(records, feature):\n",
        "    \"\"\" Set the feature missing in records, by setting the appropriate\n",
        "    columns of records to 0\n",
        "    \"\"\"\n",
        "    start_index = cat_index[feature]\n",
        "    stop_index = cat_index[feature] + len(cat_values[feature])\n",
        "    records[:, start_index:stop_index] = 0\n",
        "    return records\n",
        "\n",
        "def zero_out_random_feature(records):\n",
        "    \"\"\" Set one random feature missing in records, by setting the \n",
        "    appropriate columns of records to 0\n",
        "    \"\"\"\n",
        "    return zero_out_feature(records, random.choice(catcols))\n",
        "\n",
        "def train(model, train_loader, valid_loader, num_epochs=5, learning_rate=1e-4):\n",
        "    \"\"\" Training loop. You should update this.\"\"\"\n",
        "    torch.manual_seed(42)\n",
        "    criterion = nn.MSELoss()\n",
        "    optimizer = torch.optim.Adam(model.parameters(), lr=learning_rate)\n",
        "\n",
        "    train_acc, val_acc = [], []\n",
        "    t_loss, v_loss = [], []\n",
        "\n",
        "    for epoch in range(num_epochs):\n",
        "        for data in train_loader:\n",
        "            datam = zero_out_random_feature(data.clone()) # zero out one categorical feature\n",
        "            recon = model(datam)\n",
        "            loss = criterion(recon, data)\n",
        "            loss.backward()\n",
        "            optimizer.step()\n",
        "            optimizer.zero_grad()\n",
        "        print(\"epoch: \", epoch, end = \" \")\n",
        "        print(\"train acc: \", get_accuracy(model, train_loader), end = \" \")\n",
        "        train_acc.append(get_accuracy(model, train_loader))\n",
        "        print(\"val acc: \", get_accuracy(model, valid_loader))\n",
        "        val_acc.append(get_accuracy(model, valid_loader))\n",
        "        t_loss.append(loss)\n",
        "        \n",
        "        for data in valid_loader:\n",
        "            datam = zero_out_random_feature(data.clone()) # zero out one categorical feature\n",
        "            recon = model(datam)\n",
        "            loss = criterion(recon, data)\n",
        "            loss.backward()\n",
        "            optimizer.step()\n",
        "            optimizer.zero_grad()\n",
        "        v_loss.append(loss)\n",
        "      \n",
        "    return train_acc, val_acc, t_loss, v_loss   "
      ],
      "execution_count": 0,
      "outputs": []
    },
    {
      "cell_type": "code",
      "metadata": {
        "id": "xnSeRigh65QX",
        "colab_type": "code",
        "colab": {}
      },
      "source": [
        "def plot(train_acc, val_acc, t_loss, v_loss):\n",
        "  plt.title(\"Training vs Validation Accuracy\")\n",
        "  n = len(train_acc) # number of epochs\n",
        "  plt.plot(range(1,n+1), train_acc, label=\"Training\")\n",
        "  plt.plot(range(1,n+1), val_acc, label=\"Validation\")\n",
        "  plt.xlabel(\"Epoch\")\n",
        "  plt.ylabel(\"Accuracy\")\n",
        "  plt.legend(loc='best')\n",
        "  plt.show()\n",
        "\n",
        "  plt.title(\"Training vs Validation Loss\")\n",
        "  n = len(t_loss) # number of epochs\n",
        "  plt.plot(range(1,n+1), t_loss, label=\"Training\")\n",
        "  plt.plot(range(1,n+1), v_loss, label=\"Validation\")\n",
        "  plt.xlabel(\"Epoch\")\n",
        "  plt.ylabel(\"Loss\")\n",
        "  plt.legend(loc='best')\n",
        "  plt.show()  "
      ],
      "execution_count": 0,
      "outputs": []
    },
    {
      "cell_type": "markdown",
      "metadata": {
        "id": "WKk01pwx1pq_",
        "colab_type": "text"
      },
      "source": [
        "### Part (b) [3 pt]\n",
        "\n",
        "While plotting training and validation loss is valuable, loss values are harder to compare\n",
        "than accuracy percentages. It would be nice to have a measure of \"accuracy\" in this problem.\n",
        "\n",
        "Since we will only be imputing missing categorical values, we will define an accuracy measure.\n",
        "For each record and for each categorical feature, we determine whether\n",
        "the model can predict the categorical feature given all the other features of the record.\n",
        "\n",
        "A function `get_accuracy` is written for you. It is up to you to figure out how to\n",
        "use the function. **You don't need to submit anything in this part.**\n",
        "To earn the marks, correctly plot the training and validation accuracy every few \n",
        "iterations as part of your training curve."
      ]
    },
    {
      "cell_type": "code",
      "metadata": {
        "id": "bHWLfCzM1pq_",
        "colab_type": "code",
        "colab": {}
      },
      "source": [
        "def get_accuracy(model, data_loader):\n",
        "    \"\"\"Return the \"accuracy\" of the autoencoder model across a data set.\n",
        "    That is, for each record and for each categorical feature, \n",
        "    we determine whether the model can successfully predict the value\n",
        "    of the categorical feature given all the other features of the \n",
        "    record. The returned \"accuracy\" measure is the percentage of times \n",
        "    that our model is successful.\n",
        "        \n",
        "    Args:\n",
        "       - model: the autoencoder model, an instance of nn.Module\n",
        "       - data_loader: an instance of torch.utils.data.DataLoader\n",
        "\n",
        "    Example (to illustrate how get_accuracy is intended to be called.\n",
        "             Depending on your variable naming this code might require\n",
        "             modification.)\n",
        "\n",
        "        >>> model = AutoEncoder()\n",
        "        >>> vdl = torch.utils.data.DataLoader(data_valid, batch_size=256, shuffle=True)\n",
        "        >>> get_accuracy(model, vdl)\n",
        "    \"\"\"\n",
        "    total = 0\n",
        "    acc = 0\n",
        "    for col in catcols:\n",
        "        for item in data_loader: # minibatches\n",
        "            inp = item.detach().numpy()\n",
        "            out = model(zero_out_feature(item.clone(), col)).detach().numpy()\n",
        "            for i in range(out.shape[0]): # record in minibatch\n",
        "                acc += int(get_feature(out[i], col) == get_feature(inp[i], col))\n",
        "                total += 1\n",
        "    return acc / total"
      ],
      "execution_count": 0,
      "outputs": []
    },
    {
      "cell_type": "markdown",
      "metadata": {
        "id": "SxCTlXoV1prB",
        "colab_type": "text"
      },
      "source": [
        "### Part (c) [4 pt]\n",
        "\n",
        "Run your updated training code, using reasonable initial hyperparameters.\n",
        "\n",
        "Include your training curve in your submission."
      ]
    },
    {
      "cell_type": "code",
      "metadata": {
        "id": "cvp54LQOypuY",
        "colab_type": "code",
        "outputId": "df3a78cf-4e3c-4774-aacb-51f43351894a",
        "colab": {
          "base_uri": "https://localhost:8080/",
          "height": 1062
        }
      },
      "source": [
        "#25 epochs\n",
        "batch_size=64\n",
        "train_loader = torch.utils.data.DataLoader(train_set, batch_size=batch_size, num_workers=1)\n",
        "valid_loader = torch.utils.data.DataLoader(val_set, batch_size=batch_size, num_workers=1)\n",
        "test_loader = torch.utils.data.DataLoader(test_set, batch_size=batch_size, num_workers=1)\n",
        "autoencoder = AutoEncoder()\n",
        "train_acc, val_acc, t_loss, v_loss = train(autoencoder, train_loader, valid_loader, num_epochs=25, learning_rate=1e-4)\n",
        "plot(train_acc, val_acc, t_loss, v_loss)"
      ],
      "execution_count": 68,
      "outputs": [
        {
          "output_type": "stream",
          "text": [
            "epoch:  0 train acc:  0.4427495116733327 val acc:  0.44169560185185186\n",
            "epoch:  1 train acc:  0.4582907016401575 val acc:  0.4576461226851852\n",
            "epoch:  2 train acc:  0.4616857346603417 val acc:  0.45945457175925924\n",
            "epoch:  3 train acc:  0.5179983257371408 val acc:  0.5184461805555556\n",
            "epoch:  4 train acc:  0.5308265897745946 val acc:  0.5298394097222222\n",
            "epoch:  5 train acc:  0.5456081604811955 val acc:  0.5464409722222222\n",
            "epoch:  6 train acc:  0.560583511611323 val acc:  0.5610894097222222\n",
            "epoch:  7 train acc:  0.5681874554305026 val acc:  0.5665147569444444\n",
            "epoch:  8 train acc:  0.5831860602114532 val acc:  0.5805844907407407\n",
            "epoch:  9 train acc:  0.5919681890056739 val acc:  0.5881438078703703\n",
            "epoch:  10 train acc:  0.5969057141971289 val acc:  0.5930627893518519\n",
            "epoch:  11 train acc:  0.60261836108269 val acc:  0.5990668402777778\n",
            "epoch:  12 train acc:  0.6072303351626205 val acc:  0.6042390046296297\n",
            "epoch:  13 train acc:  0.6145784888227451 val acc:  0.6110387731481481\n",
            "epoch:  14 train acc:  0.6189346727436208 val acc:  0.6145109953703703\n",
            "epoch:  15 train acc:  0.6196942920038446 val acc:  0.6168981481481481\n",
            "epoch:  16 train acc:  0.6220119058692215 val acc:  0.6190682870370371\n",
            "epoch:  17 train acc:  0.621825876662636 val acc:  0.6191767939814815\n",
            "epoch:  18 train acc:  0.6228180324310917 val acc:  0.6187065972222222\n",
            "epoch:  19 train acc:  0.6211282671379407 val acc:  0.6173683449074074\n",
            "epoch:  20 train acc:  0.6193299848076148 val acc:  0.6150896990740741\n",
            "epoch:  21 train acc:  0.6207252038570056 val acc:  0.6160662615740741\n",
            "epoch:  22 train acc:  0.621949896133693 val acc:  0.6167534722222222\n",
            "epoch:  23 train acc:  0.622600998356742 val acc:  0.6184172453703703\n",
            "epoch:  24 train acc:  0.623376120050848 val acc:  0.6199001736111112\n"
          ],
          "name": "stdout"
        },
        {
          "output_type": "display_data",
          "data": {
            "image/png": "[encoded data removed]",
            "text/plain": [
              "<Figure size 432x288 with 1 Axes>"
            ]
          },
          "metadata": {
            "tags": []
          }
        },
        {
          "output_type": "display_data",
          "data": {
            "image/png": "[encoded data removed]",
            "text/plain": [
              "<Figure size 432x288 with 1 Axes>"
            ]
          },
          "metadata": {
            "tags": []
          }
        }
      ]
    },
    {
      "cell_type": "markdown",
      "metadata": {
        "id": "h9xTwIf51prF",
        "colab_type": "text"
      },
      "source": [
        "### Part (d) [5 pt]\n",
        "\n",
        "Tune your hyperparameters, training at least 4 different models (4 sets of hyperparameters).\n",
        "\n",
        "Do not include all your training curves. Instead, explain what hyperparameters\n",
        "you tried, what their effect was, and what your thought process was as you \n",
        "chose the next set of hyperparameters to try."
      ]
    },
    {
      "cell_type": "code",
      "metadata": {
        "id": "HzsC1vyuyp5b",
        "colab_type": "code",
        "outputId": "dd6a39e9-a2bc-4abf-e8ac-4c3bde43fd38",
        "colab": {
          "base_uri": "https://localhost:8080/",
          "height": 1160
        }
      },
      "source": [
        "#in previous model, validation accuracy was 61.99%. Loss went from 0.08 to 0.025 for both training and validation. \n",
        "#The previous model seems pretty good, so I am going to experiment with increasing the learning rate to see\n",
        "#if it results in better gradient descent optimization and decreased loss. \n",
        "\n",
        "#keep batch size the same, increase learning rate, increase number of epochs to 30 for more training\n",
        "batch_size=64\n",
        "train_loader = torch.utils.data.DataLoader(train_set, batch_size=batch_size, num_workers=1)\n",
        "valid_loader = torch.utils.data.DataLoader(val_set, batch_size=batch_size, num_workers=1)\n",
        "test_loader = torch.utils.data.DataLoader(test_set, batch_size=batch_size, num_workers=1)\n",
        "\n",
        "newautoencoder = AutoEncoder()\n",
        "train_acc, val_acc, t_loss, v_loss = train(newautoencoder, train_loader, valid_loader, num_epochs=30, learning_rate=1e-3)\n",
        "plot(train_acc, val_acc, t_loss, v_loss)\n",
        "\n",
        "##Accuracy improved from initial model. \n",
        "#The loss is much lower but more volatile, with validation set generally having higher loss, \n",
        "#and the accuracy curves are very close to converging.\n",
        "#Clearly, this model is generalizing almost as well to the validation data as it is to the training data.\n",
        "#Next, I will try decreasing the learning rate and increasing the batch size, \n",
        "#to help stablize the loss and increase the convergence of the accuracy curves."
      ],
      "execution_count": 55,
      "outputs": [
        {
          "output_type": "stream",
          "text": [
            "epoch:  0 train acc:  0.5717220103556259 val acc:  0.5703486689814815\n",
            "epoch:  1 train acc:  0.6033004681735032 val acc:  0.6044560185185185\n",
            "epoch:  2 train acc:  0.6164000248038942 val acc:  0.6160300925925926\n",
            "epoch:  3 train acc:  0.6170511270269432 val acc:  0.6143663194444444\n",
            "epoch:  4 train acc:  0.6209964964499426 val acc:  0.6183810763888888\n",
            "epoch:  5 train acc:  0.6264145970917434 val acc:  0.6265552662037037\n",
            "epoch:  6 train acc:  0.6303289616469786 val acc:  0.6280020254629629\n",
            "epoch:  7 train acc:  0.6302281958267448 val acc:  0.6273871527777778\n",
            "epoch:  8 train acc:  0.6387622856788516 val acc:  0.6367910879629629\n",
            "epoch:  9 train acc:  0.6415217189098689 val acc:  0.6389250578703703\n",
            "epoch:  10 train acc:  0.6435680401823086 val acc:  0.6405526620370371\n",
            "epoch:  11 train acc:  0.6437928254735994 val acc:  0.6414207175925926\n",
            "epoch:  12 train acc:  0.6456531175394536 val acc:  0.6419632523148148\n",
            "epoch:  13 train acc:  0.6461957027253279 val acc:  0.6420355902777778\n",
            "epoch:  14 train acc:  0.6464204880166186 val acc:  0.6440610532407407\n",
            "epoch:  15 train acc:  0.6466840293926146 val acc:  0.6426504629629629\n",
            "epoch:  16 train acc:  0.6542802219948531 val acc:  0.6513310185185185\n",
            "epoch:  17 train acc:  0.6523966762781757 val acc:  0.6486183449074074\n",
            "epoch:  18 train acc:  0.6500248038942114 val acc:  0.6461588541666666\n",
            "epoch:  19 train acc:  0.6480869996589464 val acc:  0.6442780671296297\n",
            "epoch:  20 train acc:  0.648807862834465 val acc:  0.6459418402777778\n",
            "epoch:  21 train acc:  0.6560242458065917 val acc:  0.6512948495370371\n",
            "epoch:  22 train acc:  0.6528539980776982 val acc:  0.6506076388888888\n",
            "epoch:  23 train acc:  0.6506681549003194 val acc:  0.6475332754629629\n",
            "epoch:  24 train acc:  0.6558924751185936 val acc:  0.6510778356481481\n",
            "epoch:  25 train acc:  0.6518773447431246 val acc:  0.646484375\n",
            "epoch:  26 train acc:  0.6517223204043034 val acc:  0.6484375\n",
            "epoch:  27 train acc:  0.6508309304560816 val acc:  0.6486183449074074\n",
            "epoch:  28 train acc:  0.6541407000899141 val acc:  0.6521267361111112\n",
            "epoch:  29 train acc:  0.6514510278113664 val acc:  0.6474609375\n"
          ],
          "name": "stdout"
        },
        {
          "output_type": "display_data",
          "data": {
            "image/png": "[encoded data removed]",
            "text/plain": [
              "<Figure size 432x288 with 1 Axes>"
            ]
          },
          "metadata": {
            "tags": []
          }
        },
        {
          "output_type": "display_data",
          "data": {
            "image/png": "[encoded data removed]",
            "text/plain": [
              "<Figure size 432x288 with 1 Axes>"
            ]
          },
          "metadata": {
            "tags": []
          }
        }
      ]
    },
    {
      "cell_type": "code",
      "metadata": {
        "id": "PhTKt9iL1prG",
        "colab_type": "code",
        "outputId": "44d4db3f-b170-4701-c2fa-5bd84d62d569",
        "colab": {
          "base_uri": "https://localhost:8080/",
          "height": 1160
        }
      },
      "source": [
        "#Increase batch size for faster computation and more accurate gradients, as well as averaging loss over a larger size\n",
        "#decrease learning rate for smaller step size when calculating gradient descent\n",
        "batch_size=128\n",
        "train_loader = torch.utils.data.DataLoader(train_set, batch_size=batch_size, num_workers=1)\n",
        "valid_loader = torch.utils.data.DataLoader(val_set, batch_size=batch_size, num_workers=1)\n",
        "test_loader = torch.utils.data.DataLoader(test_set, batch_size=batch_size, num_workers=1)\n",
        "\n",
        "autoencoder3 = AutoEncoder()\n",
        "train_acc, val_acc, t_loss, v_loss = train(autoencoder3, train_loader, valid_loader, num_epochs=30, learning_rate=1.5e-5)\n",
        "plot(train_acc, val_acc, t_loss, v_loss)\n",
        "\n",
        "##Accuracy went down and loss went up after decreasing learning rate and increasing batch size. \n",
        "#It is likely due to the decreased learning rate.\n",
        "##The learning rate may be too small to make accurate gradient descent calculations, so this did not end up working out.\n",
        "##However, the convergence is definitely much better in this version, which was an issue in the previous version."
      ],
      "execution_count": 70,
      "outputs": [
        {
          "output_type": "stream",
          "text": [
            "epoch:  0 train acc:  0.1890134251077419 val acc:  0.18930844907407407\n",
            "epoch:  1 train acc:  0.20732179952252502 val acc:  0.20764612268518517\n",
            "epoch:  2 train acc:  0.21665426471956098 val acc:  0.21592881944444445\n",
            "epoch:  3 train acc:  0.26268099091557373 val acc:  0.2604166666666667\n",
            "epoch:  4 train acc:  0.3307599293089015 val acc:  0.3302589699074074\n",
            "epoch:  5 train acc:  0.37539918767246455 val acc:  0.3744574652777778\n",
            "epoch:  6 train acc:  0.4088224351223142 val acc:  0.4074435763888889\n",
            "epoch:  7 train acc:  0.40893095215948905 val acc:  0.40747974537037035\n",
            "epoch:  8 train acc:  0.40893095215948905 val acc:  0.40747974537037035\n",
            "epoch:  9 train acc:  0.40894645459337114 val acc:  0.40747974537037035\n",
            "epoch:  10 train acc:  0.4598486962453105 val acc:  0.4585503472222222\n",
            "epoch:  11 train acc:  0.4598486962453105 val acc:  0.4585503472222222\n",
            "epoch:  12 train acc:  0.4598486962453105 val acc:  0.4585503472222222\n",
            "epoch:  13 train acc:  0.4598486962453105 val acc:  0.4585503472222222\n",
            "epoch:  14 train acc:  0.4598486962453105 val acc:  0.4585503472222222\n",
            "epoch:  15 train acc:  0.4598486962453105 val acc:  0.4585503472222222\n",
            "epoch:  16 train acc:  0.4598486962453105 val acc:  0.4585503472222222\n",
            "epoch:  17 train acc:  0.4598486962453105 val acc:  0.4585503472222222\n",
            "epoch:  18 train acc:  0.4598486962453105 val acc:  0.4585503472222222\n",
            "epoch:  19 train acc:  0.4598486962453105 val acc:  0.4585503472222222\n",
            "epoch:  20 train acc:  0.4598486962453105 val acc:  0.4585503472222222\n",
            "epoch:  21 train acc:  0.4598486962453105 val acc:  0.4585503472222222\n",
            "epoch:  22 train acc:  0.4598486962453105 val acc:  0.4585503472222222\n",
            "epoch:  23 train acc:  0.4598409450283695 val acc:  0.45851417824074076\n",
            "epoch:  24 train acc:  0.4598176913775463 val acc:  0.4585865162037037\n",
            "epoch:  25 train acc:  0.4601975010076582 val acc:  0.45883969907407407\n",
            "epoch:  26 train acc:  0.46160047127399 val acc:  0.4600694444444444\n",
            "epoch:  27 train acc:  0.4624686075713887 val acc:  0.4605396412037037\n",
            "epoch:  28 train acc:  0.46348401699066755 val acc:  0.4614800347222222\n",
            "epoch:  29 train acc:  0.46409636312901126 val acc:  0.4624565972222222\n"
          ],
          "name": "stdout"
        },
        {
          "output_type": "display_data",
          "data": {
            "image/png": "[encoded data removed]",
            "text/plain": [
              "<Figure size 432x288 with 1 Axes>"
            ]
          },
          "metadata": {
            "tags": []
          }
        },
        {
          "output_type": "display_data",
          "data": {
            "image/png": "[encoded data removed]",
            "text/plain": [
              "<Figure size 432x288 with 1 Axes>"
            ]
          },
          "metadata": {
            "tags": []
          }
        }
      ]
    },
    {
      "cell_type": "code",
      "metadata": {
        "id": "IvitBt9OypgW",
        "colab_type": "code",
        "outputId": "3480d59a-6595-48d6-df76-ba8fa36ddaa6",
        "colab": {
          "base_uri": "https://localhost:8080/",
          "height": 1160
        }
      },
      "source": [
        "#seems like lowering the learning rate was not useful, so slightly increase.\n",
        "#keep batch size at 128 for better loss averaging and more accurate gradients\n",
        "batch_size=128\n",
        "train_loader = torch.utils.data.DataLoader(train_set, batch_size=batch_size, num_workers=1)\n",
        "valid_loader = torch.utils.data.DataLoader(val_set, batch_size=batch_size, num_workers=1)\n",
        "test_loader = torch.utils.data.DataLoader(test_set, batch_size=batch_size, num_workers=1)\n",
        "\n",
        "autoencoder4 = AutoEncoder()\n",
        "train_acc, val_acc, t_loss, v_loss = train(autoencoder4, train_loader, valid_loader, num_epochs=30, learning_rate=1.5e-4)\n",
        "plot(train_acc, val_acc, t_loss, v_loss)\n",
        "\n",
        "#Accuracy improved. The model is doing a good job at generalizing to the \n",
        "#validation set, as can be seen by the convergence of the training accuracy and validation accuracy curves.\n",
        "#The increased learning rate therefore seems to have helped increase accuracy.\n",
        "#The loss curves are a little less smooth compared to before, but the loss is much lower than the previous model."
      ],
      "execution_count": 71,
      "outputs": [
        {
          "output_type": "stream",
          "text": [
            "epoch:  0 train acc:  0.40893095215948905 val acc:  0.40747974537037035\n",
            "epoch:  1 train acc:  0.4598486962453105 val acc:  0.4585503472222222\n",
            "epoch:  2 train acc:  0.45972467677425355 val acc:  0.4583695023148148\n",
            "epoch:  3 train acc:  0.47915697764549037 val acc:  0.47649016203703703\n",
            "epoch:  4 train acc:  0.5240830310358726 val acc:  0.5255714699074074\n",
            "epoch:  5 train acc:  0.5316327163364648 val acc:  0.5324435763888888\n",
            "epoch:  6 train acc:  0.5386553188850649 val acc:  0.5393518518518519\n",
            "epoch:  7 train acc:  0.5474451988962267 val acc:  0.5487919560185185\n",
            "epoch:  8 train acc:  0.557599293089015 val acc:  0.5563512731481481\n",
            "epoch:  9 train acc:  0.5731559854897219 val acc:  0.5718315972222222\n",
            "epoch:  10 train acc:  0.584457259789787 val acc:  0.5827184606481481\n",
            "epoch:  11 train acc:  0.5944950857284593 val acc:  0.5923032407407407\n",
            "epoch:  12 train acc:  0.5971615043561839 val acc:  0.5948712384259259\n",
            "epoch:  13 train acc:  0.5978668650978204 val acc:  0.5963541666666666\n",
            "epoch:  14 train acc:  0.5994403621368555 val acc:  0.5982349537037037\n",
            "epoch:  15 train acc:  0.5995798840417945 val acc:  0.5976200810185185\n",
            "epoch:  16 train acc:  0.603145443834682 val acc:  0.5993200231481481\n",
            "epoch:  17 train acc:  0.6065327256379252 val acc:  0.6030815972222222\n",
            "epoch:  18 train acc:  0.6120050847983133 val acc:  0.6071686921296297\n",
            "epoch:  19 train acc:  0.6152528446966173 val acc:  0.6106047453703703\n",
            "epoch:  20 train acc:  0.6174696927417604 val acc:  0.6135706018518519\n",
            "epoch:  21 train acc:  0.6160744736923697 val acc:  0.61328125\n",
            "epoch:  22 train acc:  0.6175782097789353 val acc:  0.6162471064814815\n",
            "epoch:  23 train acc:  0.6200120918984281 val acc:  0.6171875\n",
            "epoch:  24 train acc:  0.6169968685083558 val acc:  0.6149811921296297\n",
            "epoch:  25 train acc:  0.6195780237497287 val acc:  0.6177662037037037\n",
            "epoch:  26 train acc:  0.6183998387746876 val acc:  0.6167534722222222\n",
            "epoch:  27 train acc:  0.6173689269215267 val acc:  0.61328125\n",
            "epoch:  28 train acc:  0.6181362973986916 val acc:  0.6146918402777778\n",
            "epoch:  29 train acc:  0.6194152481939664 val acc:  0.6161024305555556\n"
          ],
          "name": "stdout"
        },
        {
          "output_type": "display_data",
          "data": {
            "image/png": "[encoded data removed]",
            "text/plain": [
              "<Figure size 432x288 with 1 Axes>"
            ]
          },
          "metadata": {
            "tags": []
          }
        },
        {
          "output_type": "display_data",
          "data": {
            "image/png": "[encoded data removed]",
            "text/plain": [
              "<Figure size 432x288 with 1 Axes>"
            ]
          },
          "metadata": {
            "tags": []
          }
        }
      ]
    },
    {
      "cell_type": "code",
      "metadata": {
        "id": "nj5b71l-1prC",
        "colab_type": "code",
        "outputId": "72afe203-84f2-41da-9686-0cbdbfe061d4",
        "colab": {
          "base_uri": "https://localhost:8080/",
          "height": 1000
        }
      },
      "source": [
        "#the higher batch size seems to be helping smooth the loss curves due to it averaging the loss better.\n",
        "#try an even higher batch size this time.\n",
        "#Continue to increase learning rate to improve accuracy and reduce loss.\n",
        "#When the learning rate is too small, the loss will take a very long time to decrease\n",
        "\n",
        "batch_size=256\n",
        "train_loader = torch.utils.data.DataLoader(train_set, batch_size=batch_size, num_workers=1)\n",
        "valid_loader = torch.utils.data.DataLoader(val_set, batch_size=batch_size, num_workers=1)\n",
        "test_loader = torch.utils.data.DataLoader(test_set, batch_size=batch_size, num_workers=1)\n",
        "autoencoder = AutoEncoder()\n",
        "train_acc, val_acc, t_loss, v_loss = train(autoencoder, train_loader, valid_loader, num_epochs=35, learning_rate=1.5e-3)\n",
        "plot(train_acc, val_acc, t_loss, v_loss)\n",
        "\n",
        "#accuracy improved, although there is still a sizable difference in the training and validation accuracies.\n",
        "#However, it is within the range that people got on piazza, so this seems to be the average accuracy.\n",
        "#Loss curves are closer to together and also at lower values compared to before."
      ],
      "execution_count": 0,
      "outputs": [
        {
          "output_type": "stream",
          "text": [
            "epoch:  0 train acc:  0.7361020680246799 val acc:  0.4585503472222222\n",
            "epoch:  1 train acc:  0.7361020680246799 val acc:  0.45988859953703703\n",
            "epoch:  2 train acc:  0.7345053173348216 val acc:  0.49605758101851855\n",
            "epoch:  3 train acc:  0.7308699965894645 val acc:  0.5312861689814815\n",
            "epoch:  4 train acc:  0.7334589030477785 val acc:  0.5474537037037037\n",
            "epoch:  5 train acc:  0.7335984249527175 val acc:  0.5495876736111112\n",
            "epoch:  6 train acc:  0.7340092394505937 val acc:  0.5562065972222222\n",
            "epoch:  7 train acc:  0.7335906737357765 val acc:  0.5647063078703703\n",
            "epoch:  8 train acc:  0.7343890490807057 val acc:  0.5640552662037037\n",
            "epoch:  9 train acc:  0.7351254146901064 val acc:  0.5636574074074074\n",
            "epoch:  10 train acc:  0.7368849409357269 val acc:  0.5690465856481481\n",
            "epoch:  11 train acc:  0.7376600626298329 val acc:  0.5747251157407407\n",
            "epoch:  12 train acc:  0.739481598610982 val acc:  0.5753038194444444\n",
            "epoch:  13 train acc:  0.7395513595634514 val acc:  0.5765335648148148\n",
            "epoch:  14 train acc:  0.7414271540631879 val acc:  0.5676359953703703\n",
            "epoch:  15 train acc:  0.7396521253836852 val acc:  0.5710720486111112\n",
            "epoch:  16 train acc:  0.7394660961770998 val acc:  0.5780164930555556\n",
            "epoch:  17 train acc:  0.7421480172387065 val acc:  0.5803313078703703\n",
            "epoch:  18 train acc:  0.7384041794561746 val acc:  0.5758825231481481\n",
            "epoch:  19 train acc:  0.7390862865469878 val acc:  0.5744357638888888\n",
            "epoch:  20 train acc:  0.7412643785074257 val acc:  0.5840928819444444\n",
            "epoch:  21 train acc:  0.7393885840076893 val acc:  0.5780526620370371\n",
            "epoch:  22 train acc:  0.7397916472886243 val acc:  0.5866247106481481\n",
            "epoch:  23 train acc:  0.7410783493008403 val acc:  0.5812355324074074\n",
            "epoch:  24 train acc:  0.7366989117291415 val acc:  0.5888310185185185\n",
            "epoch:  25 train acc:  0.7409310761789601 val acc:  0.5856843171296297\n",
            "epoch:  26 train acc:  0.7385049452764084 val acc:  0.5875651041666666\n",
            "epoch:  27 train acc:  0.7386367159644064 val acc:  0.5920862268518519\n",
            "epoch:  28 train acc:  0.742349548879174 val acc:  0.5944733796296297\n",
            "epoch:  29 train acc:  0.7377840821008899 val acc:  0.5919777199074074\n",
            "epoch:  30 train acc:  0.7396986326853316 val acc:  0.5982711226851852\n",
            "epoch:  31 train acc:  0.7414814125817754 val acc:  0.5945095486111112\n",
            "epoch:  32 train acc:  0.7415976808358913 val acc:  0.5958116319444444\n",
            "epoch:  33 train acc:  0.7422177781911761 val acc:  0.5953414351851852\n",
            "epoch:  34 train acc:  0.7424193098316436 val acc:  0.6005497685185185\n"
          ],
          "name": "stdout"
        },
        {
          "output_type": "display_data",
          "data": {
            "image/png": "[encoded data removed]",
            "text/plain": [
              "<Figure size 432x288 with 1 Axes>"
            ]
          },
          "metadata": {
            "tags": []
          }
        },
        {
          "output_type": "display_data",
          "data": {
            "image/png": "[encoded data removed]",
            "text/plain": [
              "<Figure size 432x288 with 1 Axes>"
            ]
          },
          "metadata": {
            "tags": []
          }
        }
      ]
    },
    {
      "cell_type": "markdown",
      "metadata": {
        "id": "ymCsZH291prI",
        "colab_type": "text"
      },
      "source": [
        "## Part 4. Testing [12 pt]\n",
        "\n",
        "### Part (a) [2 pt]\n",
        "\n",
        "Compute and report the test accuracy."
      ]
    },
    {
      "cell_type": "code",
      "metadata": {
        "id": "_KpaYGmdy-0K",
        "colab_type": "code",
        "outputId": "7ea0f4b1-ebc6-4bd0-e1cd-f1ad2d10b60b",
        "colab": {
          "base_uri": "https://localhost:8080/",
          "height": 36
        }
      },
      "source": [
        "#use best model, called newautoencoder, which is already trained in the section above.\n",
        "#had highest accuracy and low loss throughout epochs.\n",
        "get_accuracy(newautoencoder, test_loader)"
      ],
      "execution_count": 51,
      "outputs": [
        {
          "output_type": "execute_result",
          "data": {
            "text/plain": [
              "0.6527416087962963"
            ]
          },
          "metadata": {
            "tags": []
          },
          "execution_count": 51
        }
      ]
    },
    {
      "cell_type": "markdown",
      "metadata": {
        "id": "UEe9yt6L1prM",
        "colab_type": "text"
      },
      "source": [
        "### Part (b) [4 pt]\n",
        "\n",
        "Based on the test accuracy alone, it is difficult to assess whether our model\n",
        "is actually performing well. We don't know whether a high accuracy is due to\n",
        "the simplicity of the problem, or if a poor accuracy is a result of the inherent\n",
        "difficulty of the problem.\n",
        "\n",
        "It is therefore very important to be able to compare our model to at least one\n",
        "alternative. In particular, we consider a simple **baseline**\n",
        "model that is not very computationally expensive. Our neural network\n",
        "should at least outperform this baseline model. If our network is not much\n",
        "better than the baseline, then it is not doing well.\n",
        "\n",
        "For our data imputation problem, consider the following baseline model:\n",
        "to predict a missing feature, the baseline model will look at the **most common value** of the feature in the training set. \n",
        "\n",
        "For example, if the feature \"marriage\" is missing, then this model's prediction will be the most common value for \"marriage\" in the training set, which happens to be \"Married-civ-spouse\".\n",
        "\n",
        "What would be the test accuracy of this baseline model?\n"
      ]
    },
    {
      "cell_type": "code",
      "metadata": {
        "id": "yNAx4ka1KNjH",
        "colab_type": "code",
        "outputId": "a85490a0-2d09-44b6-9da4-675020890b1d",
        "colab": {
          "base_uri": "https://localhost:8080/",
          "height": 1000
        }
      },
      "source": [
        "np.sum(data)"
      ],
      "execution_count": 0,
      "outputs": [
        {
          "output_type": "execute_result",
          "data": {
            "text/plain": [
              "age                                 9023.342466\n",
              "yredu                              18697.666667\n",
              "capgain                              339.755868\n",
              "caploss                              626.984389\n",
              "workhr                             12522.071429\n",
              "work_ Federal-gov                    960.000000\n",
              "work_ Local-gov                     2093.000000\n",
              "work_ Private                      22696.000000\n",
              "work_ Self-emp-inc                  1116.000000\n",
              "work_ Self-emp-not-inc              2541.000000\n",
              "work_ State-gov                     1298.000000\n",
              "work_ Without-pay                     14.000000\n",
              "marriage_ Divorced                  4258.000000\n",
              "marriage_ Married-AF-spouse           21.000000\n",
              "marriage_ Married-civ-spouse       14339.000000\n",
              "marriage_ Married-spouse-absent      389.000000\n",
              "marriage_ Never-married             9912.000000\n",
              "marriage_ Separated                  959.000000\n",
              "marriage_ Widowed                    840.000000\n",
              "occupation_ Adm-clerical            3770.000000\n",
              "occupation_ Armed-Forces               9.000000\n",
              "occupation_ Craft-repair            4099.000000\n",
              "occupation_ Exec-managerial         4066.000000\n",
              "occupation_ Farming-fishing          994.000000\n",
              "occupation_ Handlers-cleaners       1370.000000\n",
              "occupation_ Machine-op-inspct       2002.000000\n",
              "occupation_ Other-service           3295.000000\n",
              "occupation_ Priv-house-serv          149.000000\n",
              "occupation_ Prof-specialty          4140.000000\n",
              "occupation_ Protective-serv          649.000000\n",
              "occupation_ Sales                   3650.000000\n",
              "occupation_ Tech-support             928.000000\n",
              "occupation_ Transport-moving        1597.000000\n",
              "edu_ 10th                            831.000000\n",
              "edu_ 11th                           1056.000000\n",
              "edu_ 12th                            393.000000\n",
              "edu_ 1st-4th                         156.000000\n",
              "edu_ 5th-6th                         303.000000\n",
              "edu_ 7th-8th                         573.000000\n",
              "edu_ 9th                             463.000000\n",
              "edu_ Assoc-acdm                     1020.000000\n",
              "edu_ Assoc-voc                      1321.000000\n",
              "edu_ Bachelors                      5182.000000\n",
              "edu_ Doctorate                       398.000000\n",
              "edu_ HS-grad                        9968.000000\n",
              "edu_ Masters                        1675.000000\n",
              "edu_ Preschool                        46.000000\n",
              "edu_ Prof-school                     558.000000\n",
              "edu_ Some-college                   6775.000000\n",
              "relationship_ Husband              12704.000000\n",
              "relationship_ Not-in-family         7865.000000\n",
              "relationship_ Other-relative         918.000000\n",
              "relationship_ Own-child             4525.000000\n",
              "relationship_ Unmarried             3271.000000\n",
              "relationship_ Wife                  1435.000000\n",
              "sex_ Female                         9930.000000\n",
              "sex_ Male                          20788.000000\n",
              "dtype: float64"
            ]
          },
          "metadata": {
            "tags": []
          },
          "execution_count": 89
        }
      ]
    },
    {
      "cell_type": "code",
      "metadata": {
        "id": "HlPCSUojIRq8",
        "colab_type": "code",
        "outputId": "dcf63950-21ab-4754-ef57-dd0a0d24090c",
        "colab": {
          "base_uri": "https://localhost:8080/",
          "height": 271
        }
      },
      "source": [
        "train_set"
      ],
      "execution_count": 0,
      "outputs": [
        {
          "output_type": "execute_result",
          "data": {
            "text/plain": [
              "array([[0.09589041, 0.46666667, 0.        , ..., 0.        , 0.        ,\n",
              "        1.        ],\n",
              "       [0.60273975, 0.6       , 0.        , ..., 0.        , 0.        ,\n",
              "        1.        ],\n",
              "       [0.24657534, 0.53333336, 0.05178052, ..., 0.        , 0.        ,\n",
              "        1.        ],\n",
              "       ...,\n",
              "       [0.30136988, 0.4       , 0.        , ..., 0.        , 0.        ,\n",
              "        1.        ],\n",
              "       [0.31506848, 0.53333336, 0.        , ..., 1.        , 1.        ,\n",
              "        0.        ],\n",
              "       [0.1369863 , 0.6       , 0.        , ..., 0.        , 1.        ,\n",
              "        0.        ]], dtype=float32)"
            ]
          },
          "metadata": {
            "tags": []
          },
          "execution_count": 50
        }
      ]
    },
    {
      "cell_type": "code",
      "metadata": {
        "id": "AUSBNx9dDDfI",
        "colab_type": "code",
        "outputId": "1a8a00a1-29e6-48b3-9a31-bd7e056256df",
        "colab": {
          "base_uri": "https://localhost:8080/",
          "height": 134
        }
      },
      "source": [
        "cat_index"
      ],
      "execution_count": 0,
      "outputs": [
        {
          "output_type": "execute_result",
          "data": {
            "text/plain": [
              "{'edu': 33,\n",
              " 'marriage': 12,\n",
              " 'occupation': 19,\n",
              " 'relationship': 49,\n",
              " 'sex': 55,\n",
              " 'work': 5}"
            ]
          },
          "metadata": {
            "tags": []
          },
          "execution_count": 61
        }
      ]
    },
    {
      "cell_type": "code",
      "metadata": {
        "id": "5CJNV3mhPthT",
        "colab_type": "code",
        "colab": {}
      },
      "source": [
        "def most_common_value(data):\n",
        "  most_common_values = []\n",
        "  max_index = 0\n",
        "\n",
        "  for column in range(data.shape[1]):\n",
        "    count = np.sum(data[:,column])\n",
        "\n",
        "    if column < 5:\n",
        "        most_common_values.append(torch.tensor(0.0))\n",
        "        continue\n",
        "\n",
        "    if column in cat_index.values():\n",
        "      most_common_values.append(torch.tensor(count))\n",
        "      max_index = column\n",
        "    \n",
        "    elif most_common_values[max_index] <= count:\n",
        "      most_common_values[max_index] = torch.tensor(0.0)\n",
        "      most_common_values.append(torch.tensor(count))\n",
        "      max_index = column\n",
        "\n",
        "    else:\n",
        "      most_common_values.append(torch.tensor(0.0))\n",
        "\n",
        "  #print(most_common_values)\n",
        "  for i, value in enumerate(most_common_values):\n",
        "    if value != 0:\n",
        "      most_common_values[i] = torch.tensor(1.0)\n",
        "\n",
        "  return most_common_values\n",
        "\n",
        "def output_baseline(data, most_common_values):\n",
        "  #print(most_common_values)\n",
        "  for column in range(data.shape[1]):\n",
        "        for row in range(len(data)):\n",
        "          if data[row,column] == torch.tensor(0.):\n",
        "            data[row,column] = most_common_values[column]\n",
        "  return data"
      ],
      "execution_count": 0,
      "outputs": []
    },
    {
      "cell_type": "code",
      "metadata": {
        "id": "eBIqZRV0GoGe",
        "colab_type": "code",
        "colab": {
          "base_uri": "https://localhost:8080/",
          "height": 36
        },
        "outputId": "7f125982-addb-47d6-ee9f-ab1d01787c9b"
      },
      "source": [
        "baseline=most_common_value(train_set)\n",
        "print(baseline[19:33])"
      ],
      "execution_count": 32,
      "outputs": [
        {
          "output_type": "stream",
          "text": [
            "[tensor(0.), tensor(0.), tensor(0.), tensor(0.), tensor(0.), tensor(0.), tensor(0.), tensor(0.), tensor(0.), tensor(1.), tensor(0.), tensor(0.), tensor(0.), tensor(0.)]\n"
          ],
          "name": "stdout"
        }
      ]
    },
    {
      "cell_type": "code",
      "metadata": {
        "id": "-o8W1eNuG04Q",
        "colab_type": "code",
        "colab": {}
      },
      "source": [
        "marriagegone=zero_out_feature(test_set, \"marriage\")\n",
        "basemarriage= output_baseline(marriagegone, baseline)"
      ],
      "execution_count": 0,
      "outputs": []
    },
    {
      "cell_type": "code",
      "metadata": {
        "id": "6TvFUV6Efc9W",
        "colab_type": "code",
        "outputId": "c6378036-8f13-478b-9bb9-46274ba794d9",
        "colab": {
          "base_uri": "https://localhost:8080/",
          "height": 36
        }
      },
      "source": [
        "get_feature(basemarriage[0], \"marriage\")"
      ],
      "execution_count": 77,
      "outputs": [
        {
          "output_type": "execute_result",
          "data": {
            "text/plain": [
              "'Married-civ-spouse'"
            ]
          },
          "metadata": {
            "tags": []
          },
          "execution_count": 77
        }
      ]
    },
    {
      "cell_type": "code",
      "metadata": {
        "id": "1NFTt0TPJAh_",
        "colab_type": "code",
        "outputId": "27946040-b84c-4808-9d8a-09908a7fd22c",
        "colab": {
          "base_uri": "https://localhost:8080/",
          "height": 134
        }
      },
      "source": [
        "get_features(basemarriage[0])"
      ],
      "execution_count": 79,
      "outputs": [
        {
          "output_type": "execute_result",
          "data": {
            "text/plain": [
              "{'edu': 'HS-grad',\n",
              " 'marriage': 'Married-civ-spouse',\n",
              " 'occupation': 'Prof-specialty',\n",
              " 'relationship': 'Husband',\n",
              " 'sex': 'Male',\n",
              " 'work': 'Private'}"
            ]
          },
          "metadata": {
            "tags": []
          },
          "execution_count": 79
        }
      ]
    },
    {
      "cell_type": "code",
      "metadata": {
        "id": "AfAjBeqFLJ3g",
        "colab_type": "code",
        "outputId": "61f6972d-212a-4bd5-d33b-b21a429a87d6",
        "colab": {
          "base_uri": "https://localhost:8080/",
          "height": 271
        }
      },
      "source": [
        "edugone=zero_out_feature(test_set, \"edu\")\n",
        "baseedu= output_baseline(edugone,baseline)\n",
        "baseedu"
      ],
      "execution_count": 53,
      "outputs": [
        {
          "output_type": "execute_result",
          "data": {
            "text/plain": [
              "array([[0.65753424, 0.8       , 0.06723067, ..., 0.        , 0.        ,\n",
              "        1.        ],\n",
              "       [0.23287672, 0.53333336, 0.        , ..., 0.        , 0.        ,\n",
              "        1.        ],\n",
              "       [0.60273975, 0.53333336, 0.        , ..., 0.        , 1.        ,\n",
              "        1.        ],\n",
              "       ...,\n",
              "       [0.3561644 , 0.53333336, 0.        , ..., 0.        , 1.        ,\n",
              "        1.        ],\n",
              "       [0.02739726, 0.53333336, 0.        , ..., 0.        , 0.        ,\n",
              "        1.        ],\n",
              "       [0.5068493 , 0.8       , 0.        , ..., 0.        , 0.        ,\n",
              "        1.        ]], dtype=float32)"
            ]
          },
          "metadata": {
            "tags": []
          },
          "execution_count": 53
        }
      ]
    },
    {
      "cell_type": "code",
      "metadata": {
        "id": "WHq-5lF1LUme",
        "colab_type": "code",
        "outputId": "ce864922-60d1-4530-e669-b3c07ec69d6d",
        "colab": {
          "base_uri": "https://localhost:8080/",
          "height": 134
        }
      },
      "source": [
        "get_features(baseedu[0])"
      ],
      "execution_count": 0,
      "outputs": [
        {
          "output_type": "execute_result",
          "data": {
            "text/plain": [
              "{'edu': 'HS-grad',\n",
              " 'marriage': 'Married-civ-spouse',\n",
              " 'occupation': 'Prof-specialty',\n",
              " 'relationship': 'Husband',\n",
              " 'sex': 'Male',\n",
              " 'work': 'Private'}"
            ]
          },
          "metadata": {
            "tags": []
          },
          "execution_count": 244
        }
      ]
    },
    {
      "cell_type": "code",
      "metadata": {
        "id": "636n37rwX_sd",
        "colab_type": "code",
        "colab": {}
      },
      "source": [
        "def base_accuracy(data_loader):  \n",
        "    total = 0\n",
        "    acc = 0\n",
        "    for col in catcols:\n",
        "        #print(col)\n",
        "        for item in data_loader: # minibatches\n",
        "            inp = item.detach().numpy()\n",
        "            out = output_baseline(zero_out_feature(item.clone(), col), most_common_value(train_set)).detach().numpy()\n",
        "            #print (base1)\n",
        "            #print(inp)\n",
        "            #out = model(zero_out_feature(item.clone(), col)).detach().numpy()\n",
        "            for i in range(inp.shape[0]): # record in minibatch\n",
        "              #print(i)\n",
        "              #print(len(inp),inp[i], \"base1 \\n\", len(base1), base1[i])\n",
        "              acc += int(get_feature(out[i], col) == get_feature(inp[i], col))\n",
        "              #print(\"inp\", get_feature(inp[i], col))\n",
        "              #print(get_feature(out[i], col), \"\\n\")\n",
        "              #print(out[i], \"input\", inp[i])\n",
        "              total += 1\n",
        "    return acc / total"
      ],
      "execution_count": 0,
      "outputs": []
    },
    {
      "cell_type": "code",
      "metadata": {
        "colab_type": "code",
        "outputId": "7b0cbef5-71c1-4609-da96-bff6d6df7fde",
        "id": "_2jQr8YZ9-r_",
        "colab": {
          "base_uri": "https://localhost:8080/",
          "height": 36
        }
      },
      "source": [
        "batch_size = 64\n",
        "test_loader = torch.utils.data.DataLoader(test_set, batch_size=batch_size, num_workers=1, shuffle=True)\n",
        "#ok = zero_out_random_feature(test_set)\n",
        "#base1 = output_baseline(ok, baseline)\n",
        "base_accuracy(test_loader)"
      ],
      "execution_count": 37,
      "outputs": [
        {
          "output_type": "execute_result",
          "data": {
            "text/plain": [
              "0.4568504050925926"
            ]
          },
          "metadata": {
            "tags": []
          },
          "execution_count": 37
        }
      ]
    },
    {
      "cell_type": "markdown",
      "metadata": {
        "id": "hPE4ZImY1aAF",
        "colab_type": "text"
      },
      "source": [
        "accuracy = 45.685%"
      ]
    },
    {
      "cell_type": "markdown",
      "metadata": {
        "id": "QlHu0wxh1prP",
        "colab_type": "text"
      },
      "source": [
        "### Part (c) [1 pt]\n",
        "\n",
        "How does your test accuracy from part (a) compared to your basline test accuracy in part (b)?"
      ]
    },
    {
      "cell_type": "markdown",
      "metadata": {
        "id": "3j7UZYc3NPPO",
        "colab_type": "text"
      },
      "source": [
        "The baseline accuracy is a lot lower than the accuracy of the autoencoder model, implying that the autoencoder is outperforming in comparison to the simple baseline. "
      ]
    },
    {
      "cell_type": "markdown",
      "metadata": {
        "id": "DfQPgu1Q1prS",
        "colab_type": "text"
      },
      "source": [
        "### Part (d) [1 pt]\n",
        "\n",
        "Look at the first item in your test data. \n",
        "Do you think it is reasonable for a human\n",
        "to be able to guess this person's education level\n",
        "based on their other features? Explain."
      ]
    },
    {
      "cell_type": "code",
      "metadata": {
        "colab_type": "code",
        "outputId": "3983724d-3131-424f-8ae2-14d840d3cf63",
        "id": "s04IsU8QNsC5",
        "colab": {
          "base_uri": "https://localhost:8080/",
          "height": 134
        }
      },
      "source": [
        "get_features(baseedu[0])"
      ],
      "execution_count": 0,
      "outputs": [
        {
          "output_type": "execute_result",
          "data": {
            "text/plain": [
              "{'edu': 'HS-grad',\n",
              " 'marriage': 'Married-civ-spouse',\n",
              " 'occupation': 'Prof-specialty',\n",
              " 'relationship': 'Husband',\n",
              " 'sex': 'Male',\n",
              " 'work': 'Private'}"
            ]
          },
          "metadata": {
            "tags": []
          },
          "execution_count": 94
        }
      ]
    },
    {
      "cell_type": "markdown",
      "metadata": {
        "id": "AHeMPue3EkCb",
        "colab_type": "text"
      },
      "source": [
        "It is subjective and hard for a human to be able to guess this person's education level based on their other features. You do not know about special circumstances (or whether they dropped out of school but still started a business by themselves). The categories themselves are subjective. However, some assumptions can be made by humans. For instance, I would assume that work in a professional speciality would require additional education beyond high school. "
      ]
    },
    {
      "cell_type": "markdown",
      "metadata": {
        "id": "p_d5uuAY1prZ",
        "colab_type": "text"
      },
      "source": [
        "### Part (e) [2 pt]\n",
        "\n",
        "What is your model's prediction of this person's education\n",
        "level, given their other features?\n"
      ]
    },
    {
      "cell_type": "code",
      "metadata": {
        "id": "-SuFvGXMVg_H",
        "colab_type": "code",
        "colab": {}
      },
      "source": [
        "#run test loader\n",
        "batch_size = 64\n",
        "test_loader = torch.utils.data.DataLoader(test_set, batch_size=batch_size, num_workers=1)\n",
        "def modelpredict(model, train_loader, test_loader, num_epochs=1, learning_rate=1e-3):\n",
        "    torch.manual_seed(42)\n",
        "    criterion = nn.MSELoss()\n",
        "    optimizer = torch.optim.Adam(model.parameters(), lr=learning_rate)\n",
        "\n",
        "    train_acc, test_acc = [], []\n",
        "    t_loss, te_loss = [], []\n",
        "\n",
        "    for epoch in range(num_epochs):\n",
        "        for data in train_loader:\n",
        "            datam = zero_out_feature(data.clone(), \"edu\") # zero out edu feature\n",
        "            recon = model(datam)\n",
        "            loss = criterion(recon, data)\n",
        "            loss.backward()\n",
        "            optimizer.step()\n",
        "            optimizer.zero_grad()\n",
        "        print(\"epoch: \", epoch, end = \" \")\n",
        "        print(\"train acc: \", get_accuracy(model, train_loader), end = \" \")\n",
        "        train_acc.append(get_accuracy(model, train_loader))\n",
        "        print(\"test acc: \", get_accuracy(model, test_loader))\n",
        "        test_acc.append(get_accuracy(model, test_loader))\n",
        "        t_loss.append(loss)\n",
        "        \n",
        "        for data in test_loader:\n",
        "            datam = zero_out_feature(data.clone(), \"edu\") # zero out edu feature\n",
        "            recon = model(datam)\n",
        "            loss = criterion(recon, data)\n",
        "            loss.backward()\n",
        "            optimizer.step()\n",
        "            optimizer.zero_grad()\n",
        "        te_loss.append(loss)\n",
        "      \n",
        "    return train_acc, val_acc, t_loss, v_loss, recon"
      ],
      "execution_count": 0,
      "outputs": []
    },
    {
      "cell_type": "code",
      "metadata": {
        "id": "kBY5gKXR1pra",
        "colab_type": "code",
        "outputId": "e1564afa-5a17-4cad-aa3c-8d87a532ae94",
        "colab": {
          "base_uri": "https://localhost:8080/",
          "height": 291
        }
      },
      "source": [
        "#print out recon and compare to data and see!\n",
        "autoencoder = AutoEncoder()\n",
        "train_acc, test_acc, t_loss, te_loss, recon = modelpredict(autoencoder, train_loader, test_loader, num_epochs=1, learning_rate=1e-3)\n",
        "recon"
      ],
      "execution_count": 130,
      "outputs": [
        {
          "output_type": "stream",
          "text": [
            "epoch:  0 train acc:  0.4670340743496729 test acc:  0.4656394675925926\n"
          ],
          "name": "stdout"
        },
        {
          "output_type": "execute_result",
          "data": {
            "text/plain": [
              "tensor([[3.6079e-01, 6.2758e-01, 3.1537e-02,  ..., 3.2528e-02, 9.8133e-02,\n",
              "         6.4075e-01],\n",
              "        [2.4051e-01, 5.9605e-01, 1.8146e-02,  ..., 2.8188e-02, 8.6992e-01,\n",
              "         1.7058e-01],\n",
              "        [3.1880e-01, 6.6620e-01, 1.5091e-03,  ..., 8.9079e-04, 4.2144e-04,\n",
              "         9.7442e-01],\n",
              "        ...,\n",
              "        [2.5396e-01, 6.1940e-01, 1.9092e-02,  ..., 2.9706e-02, 8.1405e-01,\n",
              "         1.8591e-01],\n",
              "        [3.5352e-01, 6.5014e-01, 2.7738e-03,  ..., 1.4905e-03, 3.2468e-04,\n",
              "         9.7811e-01],\n",
              "        [1.8857e-01, 5.7796e-01, 1.0742e-02,  ..., 1.5311e-02, 9.6645e-01,\n",
              "         1.0386e-01]], grad_fn=<SigmoidBackward>)"
            ]
          },
          "metadata": {
            "tags": []
          },
          "execution_count": 130
        }
      ]
    },
    {
      "cell_type": "code",
      "metadata": {
        "id": "7_1thCLUW-PO",
        "colab_type": "code",
        "outputId": "29fd95e7-b746-4f1e-e31e-2949ede90641",
        "colab": {
          "base_uri": "https://localhost:8080/",
          "height": 134
        }
      },
      "source": [
        "get_features(recon[0])"
      ],
      "execution_count": 67,
      "outputs": [
        {
          "output_type": "execute_result",
          "data": {
            "text/plain": [
              "{'edu': 'HS-grad',\n",
              " 'marriage': 'Married-civ-spouse',\n",
              " 'occupation': 'Prof-specialty',\n",
              " 'relationship': 'Husband',\n",
              " 'sex': 'Male',\n",
              " 'work': 'Private'}"
            ]
          },
          "metadata": {
            "tags": []
          },
          "execution_count": 67
        }
      ]
    },
    {
      "cell_type": "markdown",
      "metadata": {
        "id": "c4iyagQAXEFg",
        "colab_type": "text"
      },
      "source": [
        "Given the other features, the model predicted HS-grad. This is after I zero-ed out for education, and then checked the reconstruction. "
      ]
    },
    {
      "cell_type": "markdown",
      "metadata": {
        "id": "fdLNA0ce1prd",
        "colab_type": "text"
      },
      "source": [
        "### Part (f) [2 pt]\n",
        "\n",
        "What is the baseline model's prediction\n",
        "of this person's education level?"
      ]
    },
    {
      "cell_type": "code",
      "metadata": {
        "colab_type": "code",
        "outputId": "47b91988-f7e9-4532-8144-e422eafd19f0",
        "id": "uxaJLWcV3ztn",
        "colab": {
          "base_uri": "https://localhost:8080/",
          "height": 36
        }
      },
      "source": [
        "get_feature(baseedu[0], \"edu\") #HS-grade is most common value in train_set, that is what baseline model says"
      ],
      "execution_count": 0,
      "outputs": [
        {
          "output_type": "execute_result",
          "data": {
            "text/plain": [
              "'HS-grad'"
            ]
          },
          "metadata": {
            "tags": []
          },
          "execution_count": 104
        }
      ]
    }
  ]
}